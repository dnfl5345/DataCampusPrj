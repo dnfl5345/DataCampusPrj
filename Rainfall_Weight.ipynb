{
 "metadata": {
  "language_info": {
   "codemirror_mode": {
    "name": "ipython",
    "version": 3
   },
   "file_extension": ".py",
   "mimetype": "text/x-python",
   "name": "python",
   "nbconvert_exporter": "python",
   "pygments_lexer": "ipython3",
   "version": "3.7.3-final"
  },
  "orig_nbformat": 2,
  "kernelspec": {
   "name": "python37364bitbaseconda6e11b9c8d5c54cd9a3095ea967af262b",
   "display_name": "Python 3.7.3 64-bit ('base': conda)"
  }
 },
 "nbformat": 4,
 "nbformat_minor": 2,
 "cells": [
  {
   "cell_type": "code",
   "execution_count": 6,
   "metadata": {},
   "outputs": [],
   "source": [
    "import pandas as pd\n",
    "import datetime\n",
    "import os"
   ]
  },
  {
   "cell_type": "code",
   "execution_count": 2,
   "metadata": {},
   "outputs": [
    {
     "output_type": "execute_result",
     "data": {
      "text/plain": "datetime.datetime(2020, 8, 21, 16, 54, 43, 360879)"
     },
     "metadata": {},
     "execution_count": 2
    }
   ],
   "source": [
    "dt = datetime.datetime.now()\n",
    "dt"
   ]
  },
  {
   "cell_type": "code",
   "execution_count": 7,
   "metadata": {},
   "outputs": [
    {
     "output_type": "execute_result",
     "data": {
      "text/plain": "'c:\\\\Users\\\\user\\\\Desktop\\\\데이터 청년 캠퍼스 수업\\\\프로젝트 관련\\\\data'"
     },
     "metadata": {},
     "execution_count": 7
    }
   ],
   "source": [
    "os.getcwd()"
   ]
  },
  {
   "cell_type": "code",
   "execution_count": 56,
   "metadata": {},
   "outputs": [],
   "source": [
    "data2017 = pd.read_csv('numerical_data/부산전체 기상데이터/2017 기상청/2017 시간별 정리.csv', engine='python', header= 0)"
   ]
  },
  {
   "cell_type": "code",
   "execution_count": 58,
   "metadata": {},
   "outputs": [
    {
     "output_type": "error",
     "ename": "TypeError",
     "evalue": "cannot convert the series to <class 'int'>",
     "traceback": [
      "\u001b[1;31m---------------------------------------------------------------------------\u001b[0m",
      "\u001b[1;31mTypeError\u001b[0m                                 Traceback (most recent call last)",
      "\u001b[1;32m<ipython-input-58-8beaebeca4ef>\u001b[0m in \u001b[0;36m<module>\u001b[1;34m\u001b[0m\n\u001b[1;32m----> 1\u001b[1;33m \u001b[0mint\u001b[0m\u001b[1;33m(\u001b[0m\u001b[0mdata2017\u001b[0m\u001b[1;33m[\u001b[0m\u001b[1;34m'강수량(mm)'\u001b[0m\u001b[1;33m]\u001b[0m\u001b[1;33m.\u001b[0m\u001b[0mdropna\u001b[0m\u001b[1;33m(\u001b[0m\u001b[1;33m)\u001b[0m\u001b[1;33m)\u001b[0m\u001b[1;33m\u001b[0m\u001b[1;33m\u001b[0m\u001b[0m\n\u001b[0m",
      "\u001b[1;32mC:\\ProgramData\\Anaconda3\\lib\\site-packages\\pandas\\core\\series.py\u001b[0m in \u001b[0;36mwrapper\u001b[1;34m(self)\u001b[0m\n\u001b[0;32m     91\u001b[0m             \u001b[1;32mreturn\u001b[0m \u001b[0mconverter\u001b[0m\u001b[1;33m(\u001b[0m\u001b[0mself\u001b[0m\u001b[1;33m.\u001b[0m\u001b[0miloc\u001b[0m\u001b[1;33m[\u001b[0m\u001b[1;36m0\u001b[0m\u001b[1;33m]\u001b[0m\u001b[1;33m)\u001b[0m\u001b[1;33m\u001b[0m\u001b[1;33m\u001b[0m\u001b[0m\n\u001b[0;32m     92\u001b[0m         raise TypeError(\"cannot convert the series to \"\n\u001b[1;32m---> 93\u001b[1;33m                         \"{0}\".format(str(converter)))\n\u001b[0m\u001b[0;32m     94\u001b[0m \u001b[1;33m\u001b[0m\u001b[0m\n\u001b[0;32m     95\u001b[0m     \u001b[0mwrapper\u001b[0m\u001b[1;33m.\u001b[0m\u001b[0m__name__\u001b[0m \u001b[1;33m=\u001b[0m \u001b[1;34m\"__{name}__\"\u001b[0m\u001b[1;33m.\u001b[0m\u001b[0mformat\u001b[0m\u001b[1;33m(\u001b[0m\u001b[0mname\u001b[0m\u001b[1;33m=\u001b[0m\u001b[0mconverter\u001b[0m\u001b[1;33m.\u001b[0m\u001b[0m__name__\u001b[0m\u001b[1;33m)\u001b[0m\u001b[1;33m\u001b[0m\u001b[1;33m\u001b[0m\u001b[0m\n",
      "\u001b[1;31mTypeError\u001b[0m: cannot convert the series to <class 'int'>"
     ]
    }
   ],
   "source": [
    "data2017['강수량(mm)'].dropna()"
   ]
  },
  {
   "cell_type": "code",
   "execution_count": 33,
   "metadata": {},
   "outputs": [],
   "source": [
    "data2017['강수량(mm)'].loc[data2017['강수량(mm)'].isna()] = 0"
   ]
  },
  {
   "cell_type": "code",
   "execution_count": 39,
   "metadata": {},
   "outputs": [
    {
     "output_type": "execute_result",
     "data": {
      "text/plain": "    지점                일시  기온(°C)  강수량(mm)  풍속(m/s)  풍향(16방위)  습도(%)  증기압(hPa)  \\\n0  159  2017-01-01 00:00     3.4      0.0      2.0       340     67       5.2   \n1  159  2017-01-01 01:00     3.5      0.0      3.6       360     67       5.3   \n2  159  2017-01-01 02:00     3.6      0.0      4.0       360     67       5.3   \n3  159  2017-01-01 03:00     3.0      0.0      1.5       360     69       5.2   \n4  159  2017-01-01 04:00     2.8      0.0      0.4         0     67       5.0   \n\n   이슬점온도(°C)  현지기압(hPa)  ...  운형(운형약어)  최저운고(100m )  시정(10m)  지면상태(지면상태코드)  \\\n0       -2.1     1020.4  ...       NaN          NaN     1493           NaN   \n1       -2.0     1020.3  ...       NaN          NaN     1438           NaN   \n2       -1.9     1020.3  ...       NaN          NaN     1572           NaN   \n3       -2.1     1020.8  ...       NaN          NaN     1407           NaN   \n4       -2.7     1020.7  ...       NaN          NaN     1392           NaN   \n\n   현상번호(국내식)  지면온도(°C)  5cm 지중온도(°C) 10cm 지중온도(°C)  20cm 지중온도(°C)  \\\n0        NaN       0.2           4.1           4.5            6.4   \n1        NaN       0.5           3.8           4.3            6.3   \n2        NaN       0.4           3.6           4.1            6.2   \n3        NaN      -0.5           3.5           3.9            6.1   \n4        NaN      -0.8           3.2           3.7            6.0   \n\n   30cm 지중온도(°C)  \n0            6.9  \n1            6.8  \n2            6.8  \n3            6.7  \n4            6.8  \n\n[5 rows x 27 columns]",
      "text/html": "<div>\n<style scoped>\n    .dataframe tbody tr th:only-of-type {\n        vertical-align: middle;\n    }\n\n    .dataframe tbody tr th {\n        vertical-align: top;\n    }\n\n    .dataframe thead th {\n        text-align: right;\n    }\n</style>\n<table border=\"1\" class=\"dataframe\">\n  <thead>\n    <tr style=\"text-align: right;\">\n      <th></th>\n      <th>지점</th>\n      <th>일시</th>\n      <th>기온(°C)</th>\n      <th>강수량(mm)</th>\n      <th>풍속(m/s)</th>\n      <th>풍향(16방위)</th>\n      <th>습도(%)</th>\n      <th>증기압(hPa)</th>\n      <th>이슬점온도(°C)</th>\n      <th>현지기압(hPa)</th>\n      <th>...</th>\n      <th>운형(운형약어)</th>\n      <th>최저운고(100m )</th>\n      <th>시정(10m)</th>\n      <th>지면상태(지면상태코드)</th>\n      <th>현상번호(국내식)</th>\n      <th>지면온도(°C)</th>\n      <th>5cm 지중온도(°C)</th>\n      <th>10cm 지중온도(°C)</th>\n      <th>20cm 지중온도(°C)</th>\n      <th>30cm 지중온도(°C)</th>\n    </tr>\n  </thead>\n  <tbody>\n    <tr>\n      <th>0</th>\n      <td>159</td>\n      <td>2017-01-01 00:00</td>\n      <td>3.4</td>\n      <td>0.0</td>\n      <td>2.0</td>\n      <td>340</td>\n      <td>67</td>\n      <td>5.2</td>\n      <td>-2.1</td>\n      <td>1020.4</td>\n      <td>...</td>\n      <td>NaN</td>\n      <td>NaN</td>\n      <td>1493</td>\n      <td>NaN</td>\n      <td>NaN</td>\n      <td>0.2</td>\n      <td>4.1</td>\n      <td>4.5</td>\n      <td>6.4</td>\n      <td>6.9</td>\n    </tr>\n    <tr>\n      <th>1</th>\n      <td>159</td>\n      <td>2017-01-01 01:00</td>\n      <td>3.5</td>\n      <td>0.0</td>\n      <td>3.6</td>\n      <td>360</td>\n      <td>67</td>\n      <td>5.3</td>\n      <td>-2.0</td>\n      <td>1020.3</td>\n      <td>...</td>\n      <td>NaN</td>\n      <td>NaN</td>\n      <td>1438</td>\n      <td>NaN</td>\n      <td>NaN</td>\n      <td>0.5</td>\n      <td>3.8</td>\n      <td>4.3</td>\n      <td>6.3</td>\n      <td>6.8</td>\n    </tr>\n    <tr>\n      <th>2</th>\n      <td>159</td>\n      <td>2017-01-01 02:00</td>\n      <td>3.6</td>\n      <td>0.0</td>\n      <td>4.0</td>\n      <td>360</td>\n      <td>67</td>\n      <td>5.3</td>\n      <td>-1.9</td>\n      <td>1020.3</td>\n      <td>...</td>\n      <td>NaN</td>\n      <td>NaN</td>\n      <td>1572</td>\n      <td>NaN</td>\n      <td>NaN</td>\n      <td>0.4</td>\n      <td>3.6</td>\n      <td>4.1</td>\n      <td>6.2</td>\n      <td>6.8</td>\n    </tr>\n    <tr>\n      <th>3</th>\n      <td>159</td>\n      <td>2017-01-01 03:00</td>\n      <td>3.0</td>\n      <td>0.0</td>\n      <td>1.5</td>\n      <td>360</td>\n      <td>69</td>\n      <td>5.2</td>\n      <td>-2.1</td>\n      <td>1020.8</td>\n      <td>...</td>\n      <td>NaN</td>\n      <td>NaN</td>\n      <td>1407</td>\n      <td>NaN</td>\n      <td>NaN</td>\n      <td>-0.5</td>\n      <td>3.5</td>\n      <td>3.9</td>\n      <td>6.1</td>\n      <td>6.7</td>\n    </tr>\n    <tr>\n      <th>4</th>\n      <td>159</td>\n      <td>2017-01-01 04:00</td>\n      <td>2.8</td>\n      <td>0.0</td>\n      <td>0.4</td>\n      <td>0</td>\n      <td>67</td>\n      <td>5.0</td>\n      <td>-2.7</td>\n      <td>1020.7</td>\n      <td>...</td>\n      <td>NaN</td>\n      <td>NaN</td>\n      <td>1392</td>\n      <td>NaN</td>\n      <td>NaN</td>\n      <td>-0.8</td>\n      <td>3.2</td>\n      <td>3.7</td>\n      <td>6.0</td>\n      <td>6.8</td>\n    </tr>\n  </tbody>\n</table>\n<p>5 rows × 27 columns</p>\n</div>"
     },
     "metadata": {},
     "execution_count": 39
    }
   ],
   "source": [
    "data2017.head()"
   ]
  },
  {
   "cell_type": "code",
   "execution_count": 35,
   "metadata": {},
   "outputs": [],
   "source": [
    "data2018 = pd.read_csv('numerical_data/부산전체 기상데이터/2018 기상청/2018 시간별 정리.csv', engine='python', header= 0)"
   ]
  },
  {
   "cell_type": "code",
   "execution_count": 40,
   "metadata": {},
   "outputs": [],
   "source": [
    "data2018['강수량(mm)'].loc[data2018['강수량(mm)'].isna()] = 0"
   ]
  },
  {
   "cell_type": "code",
   "execution_count": 41,
   "metadata": {},
   "outputs": [
    {
     "output_type": "execute_result",
     "data": {
      "text/plain": "    지점                일시  기온(°C)  강수량(mm)  풍속(m/s)  풍향(16방위)  습도(%)  증기압(hPa)  \\\n0  159  2018-01-01 00:00     1.2      0.0      1.6       360   35.0       2.3   \n1  159  2018-01-01 01:00     0.5      0.0      1.3       360   33.0       2.1   \n2  159  2018-01-01 02:00     0.1      0.0      1.5        20   34.0       2.1   \n3  159  2018-01-01 03:00     0.0      0.0      2.1       320   37.0       2.3   \n4  159  2018-01-01 04:00    -0.1      0.0      2.3       340   42.0       2.5   \n\n   이슬점온도(°C)  현지기압(hPa)  ...  운형(운형약어)  최저운고(100m )  시정(10m)  지면상태(지면상태코드)  \\\n0      -12.6     1015.8  ...       NaN          NaN   2000.0           NaN   \n1      -13.9     1015.5  ...       NaN          NaN   2000.0           NaN   \n2      -13.9     1015.7  ...       NaN          NaN   2000.0           NaN   \n3      -12.9     1015.9  ...       NaN          NaN   2000.0           NaN   \n4      -11.5     1016.0  ...       NaN          NaN   2000.0           NaN   \n\n   현상번호(국내식)  지면온도(°C)  5cm 지중온도(°C) 10cm 지중온도(°C)  20cm 지중온도(°C)  \\\n0        NaN      -4.2           5.2           5.9            6.9   \n1        NaN      -4.9           4.8           5.5            6.8   \n2        NaN      -5.3           4.5           5.0            6.6   \n3        NaN      -5.0           4.1           4.8            6.4   \n4        NaN      -4.4           3.7           4.5            6.2   \n\n   30cm 지중온도(°C)  \n0            7.3  \n1            7.2  \n2            7.1  \n3            7.1  \n4            7.0  \n\n[5 rows x 27 columns]",
      "text/html": "<div>\n<style scoped>\n    .dataframe tbody tr th:only-of-type {\n        vertical-align: middle;\n    }\n\n    .dataframe tbody tr th {\n        vertical-align: top;\n    }\n\n    .dataframe thead th {\n        text-align: right;\n    }\n</style>\n<table border=\"1\" class=\"dataframe\">\n  <thead>\n    <tr style=\"text-align: right;\">\n      <th></th>\n      <th>지점</th>\n      <th>일시</th>\n      <th>기온(°C)</th>\n      <th>강수량(mm)</th>\n      <th>풍속(m/s)</th>\n      <th>풍향(16방위)</th>\n      <th>습도(%)</th>\n      <th>증기압(hPa)</th>\n      <th>이슬점온도(°C)</th>\n      <th>현지기압(hPa)</th>\n      <th>...</th>\n      <th>운형(운형약어)</th>\n      <th>최저운고(100m )</th>\n      <th>시정(10m)</th>\n      <th>지면상태(지면상태코드)</th>\n      <th>현상번호(국내식)</th>\n      <th>지면온도(°C)</th>\n      <th>5cm 지중온도(°C)</th>\n      <th>10cm 지중온도(°C)</th>\n      <th>20cm 지중온도(°C)</th>\n      <th>30cm 지중온도(°C)</th>\n    </tr>\n  </thead>\n  <tbody>\n    <tr>\n      <th>0</th>\n      <td>159</td>\n      <td>2018-01-01 00:00</td>\n      <td>1.2</td>\n      <td>0.0</td>\n      <td>1.6</td>\n      <td>360</td>\n      <td>35.0</td>\n      <td>2.3</td>\n      <td>-12.6</td>\n      <td>1015.8</td>\n      <td>...</td>\n      <td>NaN</td>\n      <td>NaN</td>\n      <td>2000.0</td>\n      <td>NaN</td>\n      <td>NaN</td>\n      <td>-4.2</td>\n      <td>5.2</td>\n      <td>5.9</td>\n      <td>6.9</td>\n      <td>7.3</td>\n    </tr>\n    <tr>\n      <th>1</th>\n      <td>159</td>\n      <td>2018-01-01 01:00</td>\n      <td>0.5</td>\n      <td>0.0</td>\n      <td>1.3</td>\n      <td>360</td>\n      <td>33.0</td>\n      <td>2.1</td>\n      <td>-13.9</td>\n      <td>1015.5</td>\n      <td>...</td>\n      <td>NaN</td>\n      <td>NaN</td>\n      <td>2000.0</td>\n      <td>NaN</td>\n      <td>NaN</td>\n      <td>-4.9</td>\n      <td>4.8</td>\n      <td>5.5</td>\n      <td>6.8</td>\n      <td>7.2</td>\n    </tr>\n    <tr>\n      <th>2</th>\n      <td>159</td>\n      <td>2018-01-01 02:00</td>\n      <td>0.1</td>\n      <td>0.0</td>\n      <td>1.5</td>\n      <td>20</td>\n      <td>34.0</td>\n      <td>2.1</td>\n      <td>-13.9</td>\n      <td>1015.7</td>\n      <td>...</td>\n      <td>NaN</td>\n      <td>NaN</td>\n      <td>2000.0</td>\n      <td>NaN</td>\n      <td>NaN</td>\n      <td>-5.3</td>\n      <td>4.5</td>\n      <td>5.0</td>\n      <td>6.6</td>\n      <td>7.1</td>\n    </tr>\n    <tr>\n      <th>3</th>\n      <td>159</td>\n      <td>2018-01-01 03:00</td>\n      <td>0.0</td>\n      <td>0.0</td>\n      <td>2.1</td>\n      <td>320</td>\n      <td>37.0</td>\n      <td>2.3</td>\n      <td>-12.9</td>\n      <td>1015.9</td>\n      <td>...</td>\n      <td>NaN</td>\n      <td>NaN</td>\n      <td>2000.0</td>\n      <td>NaN</td>\n      <td>NaN</td>\n      <td>-5.0</td>\n      <td>4.1</td>\n      <td>4.8</td>\n      <td>6.4</td>\n      <td>7.1</td>\n    </tr>\n    <tr>\n      <th>4</th>\n      <td>159</td>\n      <td>2018-01-01 04:00</td>\n      <td>-0.1</td>\n      <td>0.0</td>\n      <td>2.3</td>\n      <td>340</td>\n      <td>42.0</td>\n      <td>2.5</td>\n      <td>-11.5</td>\n      <td>1016.0</td>\n      <td>...</td>\n      <td>NaN</td>\n      <td>NaN</td>\n      <td>2000.0</td>\n      <td>NaN</td>\n      <td>NaN</td>\n      <td>-4.4</td>\n      <td>3.7</td>\n      <td>4.5</td>\n      <td>6.2</td>\n      <td>7.0</td>\n    </tr>\n  </tbody>\n</table>\n<p>5 rows × 27 columns</p>\n</div>"
     },
     "metadata": {},
     "execution_count": 41
    }
   ],
   "source": [
    "data2018.head()"
   ]
  },
  {
   "cell_type": "code",
   "execution_count": 42,
   "metadata": {},
   "outputs": [],
   "source": [
    "data2019 = pd.read_csv('numerical_data/부산전체 기상데이터/2019 기상청/2019 시간별 정리.csv', engine='python', header= 0)"
   ]
  },
  {
   "cell_type": "code",
   "execution_count": 44,
   "metadata": {},
   "outputs": [],
   "source": [
    "data2019['강수량(mm)'].loc[data2019['강수량(mm)'].isna()] = 0"
   ]
  },
  {
   "cell_type": "code",
   "execution_count": 45,
   "metadata": {},
   "outputs": [
    {
     "output_type": "execute_result",
     "data": {
      "text/plain": "    지점                일시  기온(°C)  강수량(mm)  풍속(m/s)  풍향(16방위)  습도(%)  증기압(hPa)  \\\n0  159  2019-01-01 00:00     2.1      0.0      5.2     290.0     25       1.8   \n1  159  2019-01-01 01:00     1.0      0.0      4.8     290.0     25       1.6   \n2  159  2019-01-01 02:00    -0.1      0.0      4.9     320.0     26       1.6   \n3  159  2019-01-01 03:00    -0.9      0.0      3.7     340.0     28       1.6   \n4  159  2019-01-01 04:00    -1.2      0.0      4.7     340.0     31       1.7   \n\n   이슬점온도(°C)  현지기압(hPa)  ...  운형(운형약어)  최저운고(100m )  시정(10m)  지면상태(지면상태코드)  \\\n0      -15.9     1022.5  ...       NaN          NaN   2000.0           NaN   \n1      -16.8     1022.8  ...       NaN          NaN   2000.0           NaN   \n2      -17.3     1022.3  ...       NaN          NaN   2000.0           NaN   \n3      -17.1     1022.5  ...       NaN          NaN   2000.0           NaN   \n4      -16.2     1022.2  ...       NaN          NaN   2000.0           NaN   \n\n   현상번호(국내식)  지면온도(°C)  5cm 지중온도(°C) 10cm 지중온도(°C)  20cm 지중온도(°C)  \\\n0        NaN      -0.2           4.2           4.3            5.3   \n1        NaN      -1.2           3.6           4.5            5.1   \n2        NaN      -2.3           3.8           4.1            5.1   \n3        NaN      -2.2           3.3           3.7            5.0   \n4        NaN      -2.4           3.2           3.6            4.9   \n\n   30cm 지중온도(°C)  \n0            5.6  \n1            5.5  \n2            5.5  \n3            5.8  \n4            5.7  \n\n[5 rows x 27 columns]",
      "text/html": "<div>\n<style scoped>\n    .dataframe tbody tr th:only-of-type {\n        vertical-align: middle;\n    }\n\n    .dataframe tbody tr th {\n        vertical-align: top;\n    }\n\n    .dataframe thead th {\n        text-align: right;\n    }\n</style>\n<table border=\"1\" class=\"dataframe\">\n  <thead>\n    <tr style=\"text-align: right;\">\n      <th></th>\n      <th>지점</th>\n      <th>일시</th>\n      <th>기온(°C)</th>\n      <th>강수량(mm)</th>\n      <th>풍속(m/s)</th>\n      <th>풍향(16방위)</th>\n      <th>습도(%)</th>\n      <th>증기압(hPa)</th>\n      <th>이슬점온도(°C)</th>\n      <th>현지기압(hPa)</th>\n      <th>...</th>\n      <th>운형(운형약어)</th>\n      <th>최저운고(100m )</th>\n      <th>시정(10m)</th>\n      <th>지면상태(지면상태코드)</th>\n      <th>현상번호(국내식)</th>\n      <th>지면온도(°C)</th>\n      <th>5cm 지중온도(°C)</th>\n      <th>10cm 지중온도(°C)</th>\n      <th>20cm 지중온도(°C)</th>\n      <th>30cm 지중온도(°C)</th>\n    </tr>\n  </thead>\n  <tbody>\n    <tr>\n      <th>0</th>\n      <td>159</td>\n      <td>2019-01-01 00:00</td>\n      <td>2.1</td>\n      <td>0.0</td>\n      <td>5.2</td>\n      <td>290.0</td>\n      <td>25</td>\n      <td>1.8</td>\n      <td>-15.9</td>\n      <td>1022.5</td>\n      <td>...</td>\n      <td>NaN</td>\n      <td>NaN</td>\n      <td>2000.0</td>\n      <td>NaN</td>\n      <td>NaN</td>\n      <td>-0.2</td>\n      <td>4.2</td>\n      <td>4.3</td>\n      <td>5.3</td>\n      <td>5.6</td>\n    </tr>\n    <tr>\n      <th>1</th>\n      <td>159</td>\n      <td>2019-01-01 01:00</td>\n      <td>1.0</td>\n      <td>0.0</td>\n      <td>4.8</td>\n      <td>290.0</td>\n      <td>25</td>\n      <td>1.6</td>\n      <td>-16.8</td>\n      <td>1022.8</td>\n      <td>...</td>\n      <td>NaN</td>\n      <td>NaN</td>\n      <td>2000.0</td>\n      <td>NaN</td>\n      <td>NaN</td>\n      <td>-1.2</td>\n      <td>3.6</td>\n      <td>4.5</td>\n      <td>5.1</td>\n      <td>5.5</td>\n    </tr>\n    <tr>\n      <th>2</th>\n      <td>159</td>\n      <td>2019-01-01 02:00</td>\n      <td>-0.1</td>\n      <td>0.0</td>\n      <td>4.9</td>\n      <td>320.0</td>\n      <td>26</td>\n      <td>1.6</td>\n      <td>-17.3</td>\n      <td>1022.3</td>\n      <td>...</td>\n      <td>NaN</td>\n      <td>NaN</td>\n      <td>2000.0</td>\n      <td>NaN</td>\n      <td>NaN</td>\n      <td>-2.3</td>\n      <td>3.8</td>\n      <td>4.1</td>\n      <td>5.1</td>\n      <td>5.5</td>\n    </tr>\n    <tr>\n      <th>3</th>\n      <td>159</td>\n      <td>2019-01-01 03:00</td>\n      <td>-0.9</td>\n      <td>0.0</td>\n      <td>3.7</td>\n      <td>340.0</td>\n      <td>28</td>\n      <td>1.6</td>\n      <td>-17.1</td>\n      <td>1022.5</td>\n      <td>...</td>\n      <td>NaN</td>\n      <td>NaN</td>\n      <td>2000.0</td>\n      <td>NaN</td>\n      <td>NaN</td>\n      <td>-2.2</td>\n      <td>3.3</td>\n      <td>3.7</td>\n      <td>5.0</td>\n      <td>5.8</td>\n    </tr>\n    <tr>\n      <th>4</th>\n      <td>159</td>\n      <td>2019-01-01 04:00</td>\n      <td>-1.2</td>\n      <td>0.0</td>\n      <td>4.7</td>\n      <td>340.0</td>\n      <td>31</td>\n      <td>1.7</td>\n      <td>-16.2</td>\n      <td>1022.2</td>\n      <td>...</td>\n      <td>NaN</td>\n      <td>NaN</td>\n      <td>2000.0</td>\n      <td>NaN</td>\n      <td>NaN</td>\n      <td>-2.4</td>\n      <td>3.2</td>\n      <td>3.6</td>\n      <td>4.9</td>\n      <td>5.7</td>\n    </tr>\n  </tbody>\n</table>\n<p>5 rows × 27 columns</p>\n</div>"
     },
     "metadata": {},
     "execution_count": 45
    }
   ],
   "source": [
    "data2019.head()"
   ]
  },
  {
   "cell_type": "code",
   "execution_count": 46,
   "metadata": {},
   "outputs": [],
   "source": [
    "total_rainfall = pd.concat([data2017['강수량(mm)'], data2018['강수량(mm)'], data2019['강수량(mm)']])"
   ]
  },
  {
   "cell_type": "code",
   "execution_count": 50,
   "metadata": {},
   "outputs": [
    {
     "output_type": "execute_result",
     "data": {
      "text/plain": "0        0.0\n1        0.0\n2        0.0\n3        0.0\n4        0.0\n5        0.0\n6        0.0\n7        0.0\n8        0.0\n9        0.0\n10       0.0\n11       0.0\n12       0.0\n13       0.0\n14       0.0\n15       0.0\n16       0.0\n17       0.0\n18       0.0\n19       0.0\n20       0.0\n21       0.0\n22       0.0\n23       0.0\n24       0.0\n25       0.0\n26       0.0\n27       0.0\n28       0.0\n29       0.0\n        ... \n26250    0.0\n26251    0.0\n26252    0.0\n26253    0.0\n26254    0.0\n26255    0.0\n26256    0.0\n26257    0.0\n26258    0.0\n26259    0.0\n26260    0.0\n26261    0.0\n26262    0.0\n26263    0.0\n26264    0.0\n26265    0.0\n26266    0.0\n26267    0.0\n26268    0.0\n26269    0.0\n26270    0.0\n26271    0.0\n26272    0.0\n26273    0.0\n26274    0.0\n26275    0.0\n26276    0.0\n26277    0.0\n26278    0.0\n26279    0.0\nName: 강수량(mm), Length: 26280, dtype: float64"
     },
     "metadata": {},
     "execution_count": 50
    }
   ],
   "source": [
    "total_rainfall = total_rainfall.reset_index(drop=True)"
   ]
  },
  {
   "cell_type": "code",
   "execution_count": 59,
   "metadata": {},
   "outputs": [],
   "source": [
    "total_rainfall2 = total_rainfall.values"
   ]
  },
  {
   "cell_type": "code",
   "execution_count": 69,
   "metadata": {},
   "outputs": [],
   "source": [
    "total_rainfall = pd.DataFrame(total_rainfall2, columns= {'rainfall'})"
   ]
  },
  {
   "cell_type": "code",
   "execution_count": 72,
   "metadata": {},
   "outputs": [],
   "source": [
    "total_rainfall3 = total_rainfall.loc[total_rainfall['rainfall'] > 0].reset_index(drop=True)"
   ]
  },
  {
   "cell_type": "code",
   "execution_count": 75,
   "metadata": {},
   "outputs": [
    {
     "output_type": "execute_result",
     "data": {
      "text/plain": "array([[<matplotlib.axes._subplots.AxesSubplot object at 0x0000020EC3653EF0>]],\n      dtype=object)"
     },
     "metadata": {},
     "execution_count": 75
    },
    {
     "output_type": "display_data",
     "data": {
      "text/plain": "<Figure size 432x288 with 1 Axes>",
      "image/svg+xml": "<?xml version=\"1.0\" encoding=\"utf-8\" standalone=\"no\"?>\r\n<!DOCTYPE svg PUBLIC \"-//W3C//DTD SVG 1.1//EN\"\r\n  \"http://www.w3.org/Graphics/SVG/1.1/DTD/svg11.dtd\">\r\n<!-- Created with matplotlib (https://matplotlib.org/) -->\r\n<svg height=\"263.63625pt\" version=\"1.1\" viewBox=\"0 0 375.2875 263.63625\" width=\"375.2875pt\" xmlns=\"http://www.w3.org/2000/svg\" xmlns:xlink=\"http://www.w3.org/1999/xlink\">\r\n <defs>\r\n  <style type=\"text/css\">\r\n*{stroke-linecap:butt;stroke-linejoin:round;white-space:pre;}\r\n  </style>\r\n </defs>\r\n <g id=\"figure_1\">\r\n  <g id=\"patch_1\">\r\n   <path d=\"M 0 263.63625 \r\nL 375.2875 263.63625 \r\nL 375.2875 0 \r\nL 0 0 \r\nz\r\n\" style=\"fill:none;\"/>\r\n  </g>\r\n  <g id=\"axes_1\">\r\n   <g id=\"patch_2\">\r\n    <path d=\"M 33.2875 239.758125 \r\nL 368.0875 239.758125 \r\nL 368.0875 22.318125 \r\nL 33.2875 22.318125 \r\nz\r\n\" style=\"fill:#ffffff;\"/>\r\n   </g>\r\n   <g id=\"patch_3\">\r\n    <path clip-path=\"url(#p3ea5c795ca)\" d=\"M 48.505682 239.758125 \r\nL 52.310227 239.758125 \r\nL 52.310227 32.672411 \r\nL 48.505682 32.672411 \r\nz\r\n\" style=\"fill:#1f77b4;\"/>\r\n   </g>\r\n   <g id=\"patch_4\">\r\n    <path clip-path=\"url(#p3ea5c795ca)\" d=\"M 52.310227 239.758125 \r\nL 56.114773 239.758125 \r\nL 56.114773 168.149046 \r\nL 52.310227 168.149046 \r\nz\r\n\" style=\"fill:#1f77b4;\"/>\r\n   </g>\r\n   <g id=\"patch_5\">\r\n    <path clip-path=\"url(#p3ea5c795ca)\" d=\"M 56.114773 239.758125 \r\nL 59.919318 239.758125 \r\nL 59.919318 200.497549 \r\nL 56.114773 200.497549 \r\nz\r\n\" style=\"fill:#1f77b4;\"/>\r\n   </g>\r\n   <g id=\"patch_6\">\r\n    <path clip-path=\"url(#p3ea5c795ca)\" d=\"M 59.919318 239.758125 \r\nL 63.723864 239.758125 \r\nL 63.723864 214.321695 \r\nL 59.919318 214.321695 \r\nz\r\n\" style=\"fill:#1f77b4;\"/>\r\n   </g>\r\n   <g id=\"patch_7\">\r\n    <path clip-path=\"url(#p3ea5c795ca)\" d=\"M 63.723864 239.758125 \r\nL 67.528409 239.758125 \r\nL 67.528409 220.40432 \r\nL 63.723864 220.40432 \r\nz\r\n\" style=\"fill:#1f77b4;\"/>\r\n   </g>\r\n   <g id=\"patch_8\">\r\n    <path clip-path=\"url(#p3ea5c795ca)\" d=\"M 67.528409 239.758125 \r\nL 71.332955 239.758125 \r\nL 71.332955 226.486944 \r\nL 67.528409 226.486944 \r\nz\r\n\" style=\"fill:#1f77b4;\"/>\r\n   </g>\r\n   <g id=\"patch_9\">\r\n    <path clip-path=\"url(#p3ea5c795ca)\" d=\"M 71.332955 239.758125 \r\nL 75.1375 239.758125 \r\nL 75.1375 232.293086 \r\nL 71.332955 232.293086 \r\nz\r\n\" style=\"fill:#1f77b4;\"/>\r\n   </g>\r\n   <g id=\"patch_10\">\r\n    <path clip-path=\"url(#p3ea5c795ca)\" d=\"M 75.1375 239.758125 \r\nL 78.942045 239.758125 \r\nL 78.942045 232.293086 \r\nL 75.1375 232.293086 \r\nz\r\n\" style=\"fill:#1f77b4;\"/>\r\n   </g>\r\n   <g id=\"patch_11\">\r\n    <path clip-path=\"url(#p3ea5c795ca)\" d=\"M 78.942045 239.758125 \r\nL 82.746591 239.758125 \r\nL 82.746591 233.951983 \r\nL 78.942045 233.951983 \r\nz\r\n\" style=\"fill:#1f77b4;\"/>\r\n   </g>\r\n   <g id=\"patch_12\">\r\n    <path clip-path=\"url(#p3ea5c795ca)\" d=\"M 82.746591 239.758125 \r\nL 86.551136 239.758125 \r\nL 86.551136 235.887364 \r\nL 82.746591 235.887364 \r\nz\r\n\" style=\"fill:#1f77b4;\"/>\r\n   </g>\r\n   <g id=\"patch_13\">\r\n    <path clip-path=\"url(#p3ea5c795ca)\" d=\"M 86.551136 239.758125 \r\nL 90.355682 239.758125 \r\nL 90.355682 236.993296 \r\nL 86.551136 236.993296 \r\nz\r\n\" style=\"fill:#1f77b4;\"/>\r\n   </g>\r\n   <g id=\"patch_14\">\r\n    <path clip-path=\"url(#p3ea5c795ca)\" d=\"M 90.355682 239.758125 \r\nL 94.160227 239.758125 \r\nL 94.160227 236.44033 \r\nL 90.355682 236.44033 \r\nz\r\n\" style=\"fill:#1f77b4;\"/>\r\n   </g>\r\n   <g id=\"patch_15\">\r\n    <path clip-path=\"url(#p3ea5c795ca)\" d=\"M 94.160227 239.758125 \r\nL 97.964773 239.758125 \r\nL 97.964773 237.822744 \r\nL 94.160227 237.822744 \r\nz\r\n\" style=\"fill:#1f77b4;\"/>\r\n   </g>\r\n   <g id=\"patch_16\">\r\n    <path clip-path=\"url(#p3ea5c795ca)\" d=\"M 97.964773 239.758125 \r\nL 101.769318 239.758125 \r\nL 101.769318 236.993296 \r\nL 97.964773 236.993296 \r\nz\r\n\" style=\"fill:#1f77b4;\"/>\r\n   </g>\r\n   <g id=\"patch_17\">\r\n    <path clip-path=\"url(#p3ea5c795ca)\" d=\"M 101.769318 239.758125 \r\nL 105.573864 239.758125 \r\nL 105.573864 237.822744 \r\nL 101.769318 237.822744 \r\nz\r\n\" style=\"fill:#1f77b4;\"/>\r\n   </g>\r\n   <g id=\"patch_18\">\r\n    <path clip-path=\"url(#p3ea5c795ca)\" d=\"M 105.573864 239.758125 \r\nL 109.378409 239.758125 \r\nL 109.378409 238.37571 \r\nL 105.573864 238.37571 \r\nz\r\n\" style=\"fill:#1f77b4;\"/>\r\n   </g>\r\n   <g id=\"patch_19\">\r\n    <path clip-path=\"url(#p3ea5c795ca)\" d=\"M 109.378409 239.758125 \r\nL 113.182955 239.758125 \r\nL 113.182955 238.652193 \r\nL 109.378409 238.652193 \r\nz\r\n\" style=\"fill:#1f77b4;\"/>\r\n   </g>\r\n   <g id=\"patch_20\">\r\n    <path clip-path=\"url(#p3ea5c795ca)\" d=\"M 113.182955 239.758125 \r\nL 116.9875 239.758125 \r\nL 116.9875 238.928676 \r\nL 113.182955 238.928676 \r\nz\r\n\" style=\"fill:#1f77b4;\"/>\r\n   </g>\r\n   <g id=\"patch_21\">\r\n    <path clip-path=\"url(#p3ea5c795ca)\" d=\"M 116.9875 239.758125 \r\nL 120.792045 239.758125 \r\nL 120.792045 238.652193 \r\nL 116.9875 238.652193 \r\nz\r\n\" style=\"fill:#1f77b4;\"/>\r\n   </g>\r\n   <g id=\"patch_22\">\r\n    <path clip-path=\"url(#p3ea5c795ca)\" d=\"M 120.792045 239.758125 \r\nL 124.596591 239.758125 \r\nL 124.596591 238.928676 \r\nL 120.792045 238.928676 \r\nz\r\n\" style=\"fill:#1f77b4;\"/>\r\n   </g>\r\n   <g id=\"patch_23\">\r\n    <path clip-path=\"url(#p3ea5c795ca)\" d=\"M 124.596591 239.758125 \r\nL 128.401136 239.758125 \r\nL 128.401136 239.481642 \r\nL 124.596591 239.481642 \r\nz\r\n\" style=\"fill:#1f77b4;\"/>\r\n   </g>\r\n   <g id=\"patch_24\">\r\n    <path clip-path=\"url(#p3ea5c795ca)\" d=\"M 128.401136 239.758125 \r\nL 132.205682 239.758125 \r\nL 132.205682 239.205159 \r\nL 128.401136 239.205159 \r\nz\r\n\" style=\"fill:#1f77b4;\"/>\r\n   </g>\r\n   <g id=\"patch_25\">\r\n    <path clip-path=\"url(#p3ea5c795ca)\" d=\"M 132.205682 239.758125 \r\nL 136.010227 239.758125 \r\nL 136.010227 239.481642 \r\nL 132.205682 239.481642 \r\nz\r\n\" style=\"fill:#1f77b4;\"/>\r\n   </g>\r\n   <g id=\"patch_26\">\r\n    <path clip-path=\"url(#p3ea5c795ca)\" d=\"M 136.010227 239.758125 \r\nL 139.814773 239.758125 \r\nL 139.814773 239.758125 \r\nL 136.010227 239.758125 \r\nz\r\n\" style=\"fill:#1f77b4;\"/>\r\n   </g>\r\n   <g id=\"patch_27\">\r\n    <path clip-path=\"url(#p3ea5c795ca)\" d=\"M 139.814773 239.758125 \r\nL 143.619318 239.758125 \r\nL 143.619318 239.481642 \r\nL 139.814773 239.481642 \r\nz\r\n\" style=\"fill:#1f77b4;\"/>\r\n   </g>\r\n   <g id=\"patch_28\">\r\n    <path clip-path=\"url(#p3ea5c795ca)\" d=\"M 143.619318 239.758125 \r\nL 147.423864 239.758125 \r\nL 147.423864 239.205159 \r\nL 143.619318 239.205159 \r\nz\r\n\" style=\"fill:#1f77b4;\"/>\r\n   </g>\r\n   <g id=\"patch_29\">\r\n    <path clip-path=\"url(#p3ea5c795ca)\" d=\"M 147.423864 239.758125 \r\nL 151.228409 239.758125 \r\nL 151.228409 238.928676 \r\nL 147.423864 238.928676 \r\nz\r\n\" style=\"fill:#1f77b4;\"/>\r\n   </g>\r\n   <g id=\"patch_30\">\r\n    <path clip-path=\"url(#p3ea5c795ca)\" d=\"M 151.228409 239.758125 \r\nL 155.032955 239.758125 \r\nL 155.032955 239.758125 \r\nL 151.228409 239.758125 \r\nz\r\n\" style=\"fill:#1f77b4;\"/>\r\n   </g>\r\n   <g id=\"patch_31\">\r\n    <path clip-path=\"url(#p3ea5c795ca)\" d=\"M 155.032955 239.758125 \r\nL 158.8375 239.758125 \r\nL 158.8375 239.205159 \r\nL 155.032955 239.205159 \r\nz\r\n\" style=\"fill:#1f77b4;\"/>\r\n   </g>\r\n   <g id=\"patch_32\">\r\n    <path clip-path=\"url(#p3ea5c795ca)\" d=\"M 158.8375 239.758125 \r\nL 162.642045 239.758125 \r\nL 162.642045 239.758125 \r\nL 158.8375 239.758125 \r\nz\r\n\" style=\"fill:#1f77b4;\"/>\r\n   </g>\r\n   <g id=\"patch_33\">\r\n    <path clip-path=\"url(#p3ea5c795ca)\" d=\"M 162.642045 239.758125 \r\nL 166.446591 239.758125 \r\nL 166.446591 239.205159 \r\nL 162.642045 239.205159 \r\nz\r\n\" style=\"fill:#1f77b4;\"/>\r\n   </g>\r\n   <g id=\"patch_34\">\r\n    <path clip-path=\"url(#p3ea5c795ca)\" d=\"M 166.446591 239.758125 \r\nL 170.251136 239.758125 \r\nL 170.251136 239.205159 \r\nL 166.446591 239.205159 \r\nz\r\n\" style=\"fill:#1f77b4;\"/>\r\n   </g>\r\n   <g id=\"patch_35\">\r\n    <path clip-path=\"url(#p3ea5c795ca)\" d=\"M 170.251136 239.758125 \r\nL 174.055682 239.758125 \r\nL 174.055682 239.481642 \r\nL 170.251136 239.481642 \r\nz\r\n\" style=\"fill:#1f77b4;\"/>\r\n   </g>\r\n   <g id=\"patch_36\">\r\n    <path clip-path=\"url(#p3ea5c795ca)\" d=\"M 174.055682 239.758125 \r\nL 177.860227 239.758125 \r\nL 177.860227 239.758125 \r\nL 174.055682 239.758125 \r\nz\r\n\" style=\"fill:#1f77b4;\"/>\r\n   </g>\r\n   <g id=\"patch_37\">\r\n    <path clip-path=\"url(#p3ea5c795ca)\" d=\"M 177.860227 239.758125 \r\nL 181.664773 239.758125 \r\nL 181.664773 239.758125 \r\nL 177.860227 239.758125 \r\nz\r\n\" style=\"fill:#1f77b4;\"/>\r\n   </g>\r\n   <g id=\"patch_38\">\r\n    <path clip-path=\"url(#p3ea5c795ca)\" d=\"M 181.664773 239.758125 \r\nL 185.469318 239.758125 \r\nL 185.469318 239.481642 \r\nL 181.664773 239.481642 \r\nz\r\n\" style=\"fill:#1f77b4;\"/>\r\n   </g>\r\n   <g id=\"patch_39\">\r\n    <path clip-path=\"url(#p3ea5c795ca)\" d=\"M 185.469318 239.758125 \r\nL 189.273864 239.758125 \r\nL 189.273864 239.758125 \r\nL 185.469318 239.758125 \r\nz\r\n\" style=\"fill:#1f77b4;\"/>\r\n   </g>\r\n   <g id=\"patch_40\">\r\n    <path clip-path=\"url(#p3ea5c795ca)\" d=\"M 189.273864 239.758125 \r\nL 193.078409 239.758125 \r\nL 193.078409 239.481642 \r\nL 189.273864 239.481642 \r\nz\r\n\" style=\"fill:#1f77b4;\"/>\r\n   </g>\r\n   <g id=\"patch_41\">\r\n    <path clip-path=\"url(#p3ea5c795ca)\" d=\"M 193.078409 239.758125 \r\nL 196.882955 239.758125 \r\nL 196.882955 239.205159 \r\nL 193.078409 239.205159 \r\nz\r\n\" style=\"fill:#1f77b4;\"/>\r\n   </g>\r\n   <g id=\"patch_42\">\r\n    <path clip-path=\"url(#p3ea5c795ca)\" d=\"M 196.882955 239.758125 \r\nL 200.6875 239.758125 \r\nL 200.6875 239.758125 \r\nL 196.882955 239.758125 \r\nz\r\n\" style=\"fill:#1f77b4;\"/>\r\n   </g>\r\n   <g id=\"patch_43\">\r\n    <path clip-path=\"url(#p3ea5c795ca)\" d=\"M 200.6875 239.758125 \r\nL 204.492045 239.758125 \r\nL 204.492045 239.481642 \r\nL 200.6875 239.481642 \r\nz\r\n\" style=\"fill:#1f77b4;\"/>\r\n   </g>\r\n   <g id=\"patch_44\">\r\n    <path clip-path=\"url(#p3ea5c795ca)\" d=\"M 204.492045 239.758125 \r\nL 208.296591 239.758125 \r\nL 208.296591 239.758125 \r\nL 204.492045 239.758125 \r\nz\r\n\" style=\"fill:#1f77b4;\"/>\r\n   </g>\r\n   <g id=\"patch_45\">\r\n    <path clip-path=\"url(#p3ea5c795ca)\" d=\"M 208.296591 239.758125 \r\nL 212.101136 239.758125 \r\nL 212.101136 239.758125 \r\nL 208.296591 239.758125 \r\nz\r\n\" style=\"fill:#1f77b4;\"/>\r\n   </g>\r\n   <g id=\"patch_46\">\r\n    <path clip-path=\"url(#p3ea5c795ca)\" d=\"M 212.101136 239.758125 \r\nL 215.905682 239.758125 \r\nL 215.905682 239.758125 \r\nL 212.101136 239.758125 \r\nz\r\n\" style=\"fill:#1f77b4;\"/>\r\n   </g>\r\n   <g id=\"patch_47\">\r\n    <path clip-path=\"url(#p3ea5c795ca)\" d=\"M 215.905682 239.758125 \r\nL 219.710227 239.758125 \r\nL 219.710227 239.758125 \r\nL 215.905682 239.758125 \r\nz\r\n\" style=\"fill:#1f77b4;\"/>\r\n   </g>\r\n   <g id=\"patch_48\">\r\n    <path clip-path=\"url(#p3ea5c795ca)\" d=\"M 219.710227 239.758125 \r\nL 223.514773 239.758125 \r\nL 223.514773 239.481642 \r\nL 219.710227 239.481642 \r\nz\r\n\" style=\"fill:#1f77b4;\"/>\r\n   </g>\r\n   <g id=\"patch_49\">\r\n    <path clip-path=\"url(#p3ea5c795ca)\" d=\"M 223.514773 239.758125 \r\nL 227.319318 239.758125 \r\nL 227.319318 239.758125 \r\nL 223.514773 239.758125 \r\nz\r\n\" style=\"fill:#1f77b4;\"/>\r\n   </g>\r\n   <g id=\"patch_50\">\r\n    <path clip-path=\"url(#p3ea5c795ca)\" d=\"M 227.319318 239.758125 \r\nL 231.123864 239.758125 \r\nL 231.123864 239.758125 \r\nL 227.319318 239.758125 \r\nz\r\n\" style=\"fill:#1f77b4;\"/>\r\n   </g>\r\n   <g id=\"patch_51\">\r\n    <path clip-path=\"url(#p3ea5c795ca)\" d=\"M 231.123864 239.758125 \r\nL 234.928409 239.758125 \r\nL 234.928409 239.758125 \r\nL 231.123864 239.758125 \r\nz\r\n\" style=\"fill:#1f77b4;\"/>\r\n   </g>\r\n   <g id=\"patch_52\">\r\n    <path clip-path=\"url(#p3ea5c795ca)\" d=\"M 234.928409 239.758125 \r\nL 238.732955 239.758125 \r\nL 238.732955 239.758125 \r\nL 234.928409 239.758125 \r\nz\r\n\" style=\"fill:#1f77b4;\"/>\r\n   </g>\r\n   <g id=\"patch_53\">\r\n    <path clip-path=\"url(#p3ea5c795ca)\" d=\"M 238.732955 239.758125 \r\nL 242.5375 239.758125 \r\nL 242.5375 239.758125 \r\nL 238.732955 239.758125 \r\nz\r\n\" style=\"fill:#1f77b4;\"/>\r\n   </g>\r\n   <g id=\"patch_54\">\r\n    <path clip-path=\"url(#p3ea5c795ca)\" d=\"M 242.5375 239.758125 \r\nL 246.342045 239.758125 \r\nL 246.342045 239.758125 \r\nL 242.5375 239.758125 \r\nz\r\n\" style=\"fill:#1f77b4;\"/>\r\n   </g>\r\n   <g id=\"patch_55\">\r\n    <path clip-path=\"url(#p3ea5c795ca)\" d=\"M 246.342045 239.758125 \r\nL 250.146591 239.758125 \r\nL 250.146591 239.758125 \r\nL 246.342045 239.758125 \r\nz\r\n\" style=\"fill:#1f77b4;\"/>\r\n   </g>\r\n   <g id=\"patch_56\">\r\n    <path clip-path=\"url(#p3ea5c795ca)\" d=\"M 250.146591 239.758125 \r\nL 253.951136 239.758125 \r\nL 253.951136 239.758125 \r\nL 250.146591 239.758125 \r\nz\r\n\" style=\"fill:#1f77b4;\"/>\r\n   </g>\r\n   <g id=\"patch_57\">\r\n    <path clip-path=\"url(#p3ea5c795ca)\" d=\"M 253.951136 239.758125 \r\nL 257.755682 239.758125 \r\nL 257.755682 239.758125 \r\nL 253.951136 239.758125 \r\nz\r\n\" style=\"fill:#1f77b4;\"/>\r\n   </g>\r\n   <g id=\"patch_58\">\r\n    <path clip-path=\"url(#p3ea5c795ca)\" d=\"M 257.755682 239.758125 \r\nL 261.560227 239.758125 \r\nL 261.560227 239.758125 \r\nL 257.755682 239.758125 \r\nz\r\n\" style=\"fill:#1f77b4;\"/>\r\n   </g>\r\n   <g id=\"patch_59\">\r\n    <path clip-path=\"url(#p3ea5c795ca)\" d=\"M 261.560227 239.758125 \r\nL 265.364773 239.758125 \r\nL 265.364773 239.758125 \r\nL 261.560227 239.758125 \r\nz\r\n\" style=\"fill:#1f77b4;\"/>\r\n   </g>\r\n   <g id=\"patch_60\">\r\n    <path clip-path=\"url(#p3ea5c795ca)\" d=\"M 265.364773 239.758125 \r\nL 269.169318 239.758125 \r\nL 269.169318 239.481642 \r\nL 265.364773 239.481642 \r\nz\r\n\" style=\"fill:#1f77b4;\"/>\r\n   </g>\r\n   <g id=\"patch_61\">\r\n    <path clip-path=\"url(#p3ea5c795ca)\" d=\"M 269.169318 239.758125 \r\nL 272.973864 239.758125 \r\nL 272.973864 239.481642 \r\nL 269.169318 239.481642 \r\nz\r\n\" style=\"fill:#1f77b4;\"/>\r\n   </g>\r\n   <g id=\"patch_62\">\r\n    <path clip-path=\"url(#p3ea5c795ca)\" d=\"M 272.973864 239.758125 \r\nL 276.778409 239.758125 \r\nL 276.778409 239.758125 \r\nL 272.973864 239.758125 \r\nz\r\n\" style=\"fill:#1f77b4;\"/>\r\n   </g>\r\n   <g id=\"patch_63\">\r\n    <path clip-path=\"url(#p3ea5c795ca)\" d=\"M 276.778409 239.758125 \r\nL 280.582955 239.758125 \r\nL 280.582955 239.758125 \r\nL 276.778409 239.758125 \r\nz\r\n\" style=\"fill:#1f77b4;\"/>\r\n   </g>\r\n   <g id=\"patch_64\">\r\n    <path clip-path=\"url(#p3ea5c795ca)\" d=\"M 280.582955 239.758125 \r\nL 284.3875 239.758125 \r\nL 284.3875 239.758125 \r\nL 280.582955 239.758125 \r\nz\r\n\" style=\"fill:#1f77b4;\"/>\r\n   </g>\r\n   <g id=\"patch_65\">\r\n    <path clip-path=\"url(#p3ea5c795ca)\" d=\"M 284.3875 239.758125 \r\nL 288.192045 239.758125 \r\nL 288.192045 239.758125 \r\nL 284.3875 239.758125 \r\nz\r\n\" style=\"fill:#1f77b4;\"/>\r\n   </g>\r\n   <g id=\"patch_66\">\r\n    <path clip-path=\"url(#p3ea5c795ca)\" d=\"M 288.192045 239.758125 \r\nL 291.996591 239.758125 \r\nL 291.996591 239.758125 \r\nL 288.192045 239.758125 \r\nz\r\n\" style=\"fill:#1f77b4;\"/>\r\n   </g>\r\n   <g id=\"patch_67\">\r\n    <path clip-path=\"url(#p3ea5c795ca)\" d=\"M 291.996591 239.758125 \r\nL 295.801136 239.758125 \r\nL 295.801136 239.758125 \r\nL 291.996591 239.758125 \r\nz\r\n\" style=\"fill:#1f77b4;\"/>\r\n   </g>\r\n   <g id=\"patch_68\">\r\n    <path clip-path=\"url(#p3ea5c795ca)\" d=\"M 295.801136 239.758125 \r\nL 299.605682 239.758125 \r\nL 299.605682 239.758125 \r\nL 295.801136 239.758125 \r\nz\r\n\" style=\"fill:#1f77b4;\"/>\r\n   </g>\r\n   <g id=\"patch_69\">\r\n    <path clip-path=\"url(#p3ea5c795ca)\" d=\"M 299.605682 239.758125 \r\nL 303.410227 239.758125 \r\nL 303.410227 239.758125 \r\nL 299.605682 239.758125 \r\nz\r\n\" style=\"fill:#1f77b4;\"/>\r\n   </g>\r\n   <g id=\"patch_70\">\r\n    <path clip-path=\"url(#p3ea5c795ca)\" d=\"M 303.410227 239.758125 \r\nL 307.214773 239.758125 \r\nL 307.214773 239.758125 \r\nL 303.410227 239.758125 \r\nz\r\n\" style=\"fill:#1f77b4;\"/>\r\n   </g>\r\n   <g id=\"patch_71\">\r\n    <path clip-path=\"url(#p3ea5c795ca)\" d=\"M 307.214773 239.758125 \r\nL 311.019318 239.758125 \r\nL 311.019318 239.758125 \r\nL 307.214773 239.758125 \r\nz\r\n\" style=\"fill:#1f77b4;\"/>\r\n   </g>\r\n   <g id=\"patch_72\">\r\n    <path clip-path=\"url(#p3ea5c795ca)\" d=\"M 311.019318 239.758125 \r\nL 314.823864 239.758125 \r\nL 314.823864 239.758125 \r\nL 311.019318 239.758125 \r\nz\r\n\" style=\"fill:#1f77b4;\"/>\r\n   </g>\r\n   <g id=\"patch_73\">\r\n    <path clip-path=\"url(#p3ea5c795ca)\" d=\"M 314.823864 239.758125 \r\nL 318.628409 239.758125 \r\nL 318.628409 239.758125 \r\nL 314.823864 239.758125 \r\nz\r\n\" style=\"fill:#1f77b4;\"/>\r\n   </g>\r\n   <g id=\"patch_74\">\r\n    <path clip-path=\"url(#p3ea5c795ca)\" d=\"M 318.628409 239.758125 \r\nL 322.432955 239.758125 \r\nL 322.432955 239.758125 \r\nL 318.628409 239.758125 \r\nz\r\n\" style=\"fill:#1f77b4;\"/>\r\n   </g>\r\n   <g id=\"patch_75\">\r\n    <path clip-path=\"url(#p3ea5c795ca)\" d=\"M 322.432955 239.758125 \r\nL 326.2375 239.758125 \r\nL 326.2375 239.758125 \r\nL 322.432955 239.758125 \r\nz\r\n\" style=\"fill:#1f77b4;\"/>\r\n   </g>\r\n   <g id=\"patch_76\">\r\n    <path clip-path=\"url(#p3ea5c795ca)\" d=\"M 326.2375 239.758125 \r\nL 330.042045 239.758125 \r\nL 330.042045 239.758125 \r\nL 326.2375 239.758125 \r\nz\r\n\" style=\"fill:#1f77b4;\"/>\r\n   </g>\r\n   <g id=\"patch_77\">\r\n    <path clip-path=\"url(#p3ea5c795ca)\" d=\"M 330.042045 239.758125 \r\nL 333.846591 239.758125 \r\nL 333.846591 239.758125 \r\nL 330.042045 239.758125 \r\nz\r\n\" style=\"fill:#1f77b4;\"/>\r\n   </g>\r\n   <g id=\"patch_78\">\r\n    <path clip-path=\"url(#p3ea5c795ca)\" d=\"M 333.846591 239.758125 \r\nL 337.651136 239.758125 \r\nL 337.651136 239.758125 \r\nL 333.846591 239.758125 \r\nz\r\n\" style=\"fill:#1f77b4;\"/>\r\n   </g>\r\n   <g id=\"patch_79\">\r\n    <path clip-path=\"url(#p3ea5c795ca)\" d=\"M 337.651136 239.758125 \r\nL 341.455682 239.758125 \r\nL 341.455682 239.758125 \r\nL 337.651136 239.758125 \r\nz\r\n\" style=\"fill:#1f77b4;\"/>\r\n   </g>\r\n   <g id=\"patch_80\">\r\n    <path clip-path=\"url(#p3ea5c795ca)\" d=\"M 341.455682 239.758125 \r\nL 345.260227 239.758125 \r\nL 345.260227 239.758125 \r\nL 341.455682 239.758125 \r\nz\r\n\" style=\"fill:#1f77b4;\"/>\r\n   </g>\r\n   <g id=\"patch_81\">\r\n    <path clip-path=\"url(#p3ea5c795ca)\" d=\"M 345.260227 239.758125 \r\nL 349.064773 239.758125 \r\nL 349.064773 239.758125 \r\nL 345.260227 239.758125 \r\nz\r\n\" style=\"fill:#1f77b4;\"/>\r\n   </g>\r\n   <g id=\"patch_82\">\r\n    <path clip-path=\"url(#p3ea5c795ca)\" d=\"M 349.064773 239.758125 \r\nL 352.869318 239.758125 \r\nL 352.869318 239.481642 \r\nL 349.064773 239.481642 \r\nz\r\n\" style=\"fill:#1f77b4;\"/>\r\n   </g>\r\n   <g id=\"matplotlib.axis_1\">\r\n    <g id=\"xtick_1\">\r\n     <g id=\"line2d_1\">\r\n      <path clip-path=\"url(#p3ea5c795ca)\" d=\"M 48.118943 239.758125 \r\nL 48.118943 22.318125 \r\n\" style=\"fill:none;stroke:#b0b0b0;stroke-linecap:square;stroke-width:0.8;\"/>\r\n     </g>\r\n     <g id=\"line2d_2\">\r\n      <defs>\r\n       <path d=\"M 0 0 \r\nL 0 3.5 \r\n\" id=\"m0ea548ba56\" style=\"stroke:#000000;stroke-width:0.8;\"/>\r\n      </defs>\r\n      <g>\r\n       <use style=\"stroke:#000000;stroke-width:0.8;\" x=\"48.118943\" xlink:href=\"#m0ea548ba56\" y=\"239.758125\"/>\r\n      </g>\r\n     </g>\r\n     <g id=\"text_1\">\r\n      <!-- 0 -->\r\n      <defs>\r\n       <path d=\"M 31.78125 66.40625 \r\nQ 24.171875 66.40625 20.328125 58.90625 \r\nQ 16.5 51.421875 16.5 36.375 \r\nQ 16.5 21.390625 20.328125 13.890625 \r\nQ 24.171875 6.390625 31.78125 6.390625 \r\nQ 39.453125 6.390625 43.28125 13.890625 \r\nQ 47.125 21.390625 47.125 36.375 \r\nQ 47.125 51.421875 43.28125 58.90625 \r\nQ 39.453125 66.40625 31.78125 66.40625 \r\nz\r\nM 31.78125 74.21875 \r\nQ 44.046875 74.21875 50.515625 64.515625 \r\nQ 56.984375 54.828125 56.984375 36.375 \r\nQ 56.984375 17.96875 50.515625 8.265625 \r\nQ 44.046875 -1.421875 31.78125 -1.421875 \r\nQ 19.53125 -1.421875 13.0625 8.265625 \r\nQ 6.59375 17.96875 6.59375 36.375 \r\nQ 6.59375 54.828125 13.0625 64.515625 \r\nQ 19.53125 74.21875 31.78125 74.21875 \r\nz\r\n\" id=\"DejaVuSans-48\"/>\r\n      </defs>\r\n      <g transform=\"translate(44.937693 254.356563)scale(0.1 -0.1)\">\r\n       <use xlink:href=\"#DejaVuSans-48\"/>\r\n      </g>\r\n     </g>\r\n    </g>\r\n    <g id=\"xtick_2\">\r\n     <g id=\"line2d_3\">\r\n      <path clip-path=\"url(#p3ea5c795ca)\" d=\"M 86.792848 239.758125 \r\nL 86.792848 22.318125 \r\n\" style=\"fill:none;stroke:#b0b0b0;stroke-linecap:square;stroke-width:0.8;\"/>\r\n     </g>\r\n     <g id=\"line2d_4\">\r\n      <g>\r\n       <use style=\"stroke:#000000;stroke-width:0.8;\" x=\"86.792848\" xlink:href=\"#m0ea548ba56\" y=\"239.758125\"/>\r\n      </g>\r\n     </g>\r\n     <g id=\"text_2\">\r\n      <!-- 10 -->\r\n      <defs>\r\n       <path d=\"M 12.40625 8.296875 \r\nL 28.515625 8.296875 \r\nL 28.515625 63.921875 \r\nL 10.984375 60.40625 \r\nL 10.984375 69.390625 \r\nL 28.421875 72.90625 \r\nL 38.28125 72.90625 \r\nL 38.28125 8.296875 \r\nL 54.390625 8.296875 \r\nL 54.390625 0 \r\nL 12.40625 0 \r\nz\r\n\" id=\"DejaVuSans-49\"/>\r\n      </defs>\r\n      <g transform=\"translate(80.430348 254.356563)scale(0.1 -0.1)\">\r\n       <use xlink:href=\"#DejaVuSans-49\"/>\r\n       <use x=\"63.623047\" xlink:href=\"#DejaVuSans-48\"/>\r\n      </g>\r\n     </g>\r\n    </g>\r\n    <g id=\"xtick_3\">\r\n     <g id=\"line2d_5\">\r\n      <path clip-path=\"url(#p3ea5c795ca)\" d=\"M 125.466754 239.758125 \r\nL 125.466754 22.318125 \r\n\" style=\"fill:none;stroke:#b0b0b0;stroke-linecap:square;stroke-width:0.8;\"/>\r\n     </g>\r\n     <g id=\"line2d_6\">\r\n      <g>\r\n       <use style=\"stroke:#000000;stroke-width:0.8;\" x=\"125.466754\" xlink:href=\"#m0ea548ba56\" y=\"239.758125\"/>\r\n      </g>\r\n     </g>\r\n     <g id=\"text_3\">\r\n      <!-- 20 -->\r\n      <defs>\r\n       <path d=\"M 19.1875 8.296875 \r\nL 53.609375 8.296875 \r\nL 53.609375 0 \r\nL 7.328125 0 \r\nL 7.328125 8.296875 \r\nQ 12.9375 14.109375 22.625 23.890625 \r\nQ 32.328125 33.6875 34.8125 36.53125 \r\nQ 39.546875 41.84375 41.421875 45.53125 \r\nQ 43.3125 49.21875 43.3125 52.78125 \r\nQ 43.3125 58.59375 39.234375 62.25 \r\nQ 35.15625 65.921875 28.609375 65.921875 \r\nQ 23.96875 65.921875 18.8125 64.3125 \r\nQ 13.671875 62.703125 7.8125 59.421875 \r\nL 7.8125 69.390625 \r\nQ 13.765625 71.78125 18.9375 73 \r\nQ 24.125 74.21875 28.421875 74.21875 \r\nQ 39.75 74.21875 46.484375 68.546875 \r\nQ 53.21875 62.890625 53.21875 53.421875 \r\nQ 53.21875 48.921875 51.53125 44.890625 \r\nQ 49.859375 40.875 45.40625 35.40625 \r\nQ 44.1875 33.984375 37.640625 27.21875 \r\nQ 31.109375 20.453125 19.1875 8.296875 \r\nz\r\n\" id=\"DejaVuSans-50\"/>\r\n      </defs>\r\n      <g transform=\"translate(119.104254 254.356563)scale(0.1 -0.1)\">\r\n       <use xlink:href=\"#DejaVuSans-50\"/>\r\n       <use x=\"63.623047\" xlink:href=\"#DejaVuSans-48\"/>\r\n      </g>\r\n     </g>\r\n    </g>\r\n    <g id=\"xtick_4\">\r\n     <g id=\"line2d_7\">\r\n      <path clip-path=\"url(#p3ea5c795ca)\" d=\"M 164.140659 239.758125 \r\nL 164.140659 22.318125 \r\n\" style=\"fill:none;stroke:#b0b0b0;stroke-linecap:square;stroke-width:0.8;\"/>\r\n     </g>\r\n     <g id=\"line2d_8\">\r\n      <g>\r\n       <use style=\"stroke:#000000;stroke-width:0.8;\" x=\"164.140659\" xlink:href=\"#m0ea548ba56\" y=\"239.758125\"/>\r\n      </g>\r\n     </g>\r\n     <g id=\"text_4\">\r\n      <!-- 30 -->\r\n      <defs>\r\n       <path d=\"M 40.578125 39.3125 \r\nQ 47.65625 37.796875 51.625 33 \r\nQ 55.609375 28.21875 55.609375 21.1875 \r\nQ 55.609375 10.40625 48.1875 4.484375 \r\nQ 40.765625 -1.421875 27.09375 -1.421875 \r\nQ 22.515625 -1.421875 17.65625 -0.515625 \r\nQ 12.796875 0.390625 7.625 2.203125 \r\nL 7.625 11.71875 \r\nQ 11.71875 9.328125 16.59375 8.109375 \r\nQ 21.484375 6.890625 26.8125 6.890625 \r\nQ 36.078125 6.890625 40.9375 10.546875 \r\nQ 45.796875 14.203125 45.796875 21.1875 \r\nQ 45.796875 27.640625 41.28125 31.265625 \r\nQ 36.765625 34.90625 28.71875 34.90625 \r\nL 20.21875 34.90625 \r\nL 20.21875 43.015625 \r\nL 29.109375 43.015625 \r\nQ 36.375 43.015625 40.234375 45.921875 \r\nQ 44.09375 48.828125 44.09375 54.296875 \r\nQ 44.09375 59.90625 40.109375 62.90625 \r\nQ 36.140625 65.921875 28.71875 65.921875 \r\nQ 24.65625 65.921875 20.015625 65.03125 \r\nQ 15.375 64.15625 9.8125 62.3125 \r\nL 9.8125 71.09375 \r\nQ 15.4375 72.65625 20.34375 73.4375 \r\nQ 25.25 74.21875 29.59375 74.21875 \r\nQ 40.828125 74.21875 47.359375 69.109375 \r\nQ 53.90625 64.015625 53.90625 55.328125 \r\nQ 53.90625 49.265625 50.4375 45.09375 \r\nQ 46.96875 40.921875 40.578125 39.3125 \r\nz\r\n\" id=\"DejaVuSans-51\"/>\r\n      </defs>\r\n      <g transform=\"translate(157.778159 254.356563)scale(0.1 -0.1)\">\r\n       <use xlink:href=\"#DejaVuSans-51\"/>\r\n       <use x=\"63.623047\" xlink:href=\"#DejaVuSans-48\"/>\r\n      </g>\r\n     </g>\r\n    </g>\r\n    <g id=\"xtick_5\">\r\n     <g id=\"line2d_9\">\r\n      <path clip-path=\"url(#p3ea5c795ca)\" d=\"M 202.814565 239.758125 \r\nL 202.814565 22.318125 \r\n\" style=\"fill:none;stroke:#b0b0b0;stroke-linecap:square;stroke-width:0.8;\"/>\r\n     </g>\r\n     <g id=\"line2d_10\">\r\n      <g>\r\n       <use style=\"stroke:#000000;stroke-width:0.8;\" x=\"202.814565\" xlink:href=\"#m0ea548ba56\" y=\"239.758125\"/>\r\n      </g>\r\n     </g>\r\n     <g id=\"text_5\">\r\n      <!-- 40 -->\r\n      <defs>\r\n       <path d=\"M 37.796875 64.3125 \r\nL 12.890625 25.390625 \r\nL 37.796875 25.390625 \r\nz\r\nM 35.203125 72.90625 \r\nL 47.609375 72.90625 \r\nL 47.609375 25.390625 \r\nL 58.015625 25.390625 \r\nL 58.015625 17.1875 \r\nL 47.609375 17.1875 \r\nL 47.609375 0 \r\nL 37.796875 0 \r\nL 37.796875 17.1875 \r\nL 4.890625 17.1875 \r\nL 4.890625 26.703125 \r\nz\r\n\" id=\"DejaVuSans-52\"/>\r\n      </defs>\r\n      <g transform=\"translate(196.452065 254.356563)scale(0.1 -0.1)\">\r\n       <use xlink:href=\"#DejaVuSans-52\"/>\r\n       <use x=\"63.623047\" xlink:href=\"#DejaVuSans-48\"/>\r\n      </g>\r\n     </g>\r\n    </g>\r\n    <g id=\"xtick_6\">\r\n     <g id=\"line2d_11\">\r\n      <path clip-path=\"url(#p3ea5c795ca)\" d=\"M 241.48847 239.758125 \r\nL 241.48847 22.318125 \r\n\" style=\"fill:none;stroke:#b0b0b0;stroke-linecap:square;stroke-width:0.8;\"/>\r\n     </g>\r\n     <g id=\"line2d_12\">\r\n      <g>\r\n       <use style=\"stroke:#000000;stroke-width:0.8;\" x=\"241.48847\" xlink:href=\"#m0ea548ba56\" y=\"239.758125\"/>\r\n      </g>\r\n     </g>\r\n     <g id=\"text_6\">\r\n      <!-- 50 -->\r\n      <defs>\r\n       <path d=\"M 10.796875 72.90625 \r\nL 49.515625 72.90625 \r\nL 49.515625 64.59375 \r\nL 19.828125 64.59375 \r\nL 19.828125 46.734375 \r\nQ 21.96875 47.46875 24.109375 47.828125 \r\nQ 26.265625 48.1875 28.421875 48.1875 \r\nQ 40.625 48.1875 47.75 41.5 \r\nQ 54.890625 34.8125 54.890625 23.390625 \r\nQ 54.890625 11.625 47.5625 5.09375 \r\nQ 40.234375 -1.421875 26.90625 -1.421875 \r\nQ 22.3125 -1.421875 17.546875 -0.640625 \r\nQ 12.796875 0.140625 7.71875 1.703125 \r\nL 7.71875 11.625 \r\nQ 12.109375 9.234375 16.796875 8.0625 \r\nQ 21.484375 6.890625 26.703125 6.890625 \r\nQ 35.15625 6.890625 40.078125 11.328125 \r\nQ 45.015625 15.765625 45.015625 23.390625 \r\nQ 45.015625 31 40.078125 35.4375 \r\nQ 35.15625 39.890625 26.703125 39.890625 \r\nQ 22.75 39.890625 18.8125 39.015625 \r\nQ 14.890625 38.140625 10.796875 36.28125 \r\nz\r\n\" id=\"DejaVuSans-53\"/>\r\n      </defs>\r\n      <g transform=\"translate(235.12597 254.356563)scale(0.1 -0.1)\">\r\n       <use xlink:href=\"#DejaVuSans-53\"/>\r\n       <use x=\"63.623047\" xlink:href=\"#DejaVuSans-48\"/>\r\n      </g>\r\n     </g>\r\n    </g>\r\n    <g id=\"xtick_7\">\r\n     <g id=\"line2d_13\">\r\n      <path clip-path=\"url(#p3ea5c795ca)\" d=\"M 280.162376 239.758125 \r\nL 280.162376 22.318125 \r\n\" style=\"fill:none;stroke:#b0b0b0;stroke-linecap:square;stroke-width:0.8;\"/>\r\n     </g>\r\n     <g id=\"line2d_14\">\r\n      <g>\r\n       <use style=\"stroke:#000000;stroke-width:0.8;\" x=\"280.162376\" xlink:href=\"#m0ea548ba56\" y=\"239.758125\"/>\r\n      </g>\r\n     </g>\r\n     <g id=\"text_7\">\r\n      <!-- 60 -->\r\n      <defs>\r\n       <path d=\"M 33.015625 40.375 \r\nQ 26.375 40.375 22.484375 35.828125 \r\nQ 18.609375 31.296875 18.609375 23.390625 \r\nQ 18.609375 15.53125 22.484375 10.953125 \r\nQ 26.375 6.390625 33.015625 6.390625 \r\nQ 39.65625 6.390625 43.53125 10.953125 \r\nQ 47.40625 15.53125 47.40625 23.390625 \r\nQ 47.40625 31.296875 43.53125 35.828125 \r\nQ 39.65625 40.375 33.015625 40.375 \r\nz\r\nM 52.59375 71.296875 \r\nL 52.59375 62.3125 \r\nQ 48.875 64.0625 45.09375 64.984375 \r\nQ 41.3125 65.921875 37.59375 65.921875 \r\nQ 27.828125 65.921875 22.671875 59.328125 \r\nQ 17.53125 52.734375 16.796875 39.40625 \r\nQ 19.671875 43.65625 24.015625 45.921875 \r\nQ 28.375 48.1875 33.59375 48.1875 \r\nQ 44.578125 48.1875 50.953125 41.515625 \r\nQ 57.328125 34.859375 57.328125 23.390625 \r\nQ 57.328125 12.15625 50.6875 5.359375 \r\nQ 44.046875 -1.421875 33.015625 -1.421875 \r\nQ 20.359375 -1.421875 13.671875 8.265625 \r\nQ 6.984375 17.96875 6.984375 36.375 \r\nQ 6.984375 53.65625 15.1875 63.9375 \r\nQ 23.390625 74.21875 37.203125 74.21875 \r\nQ 40.921875 74.21875 44.703125 73.484375 \r\nQ 48.484375 72.75 52.59375 71.296875 \r\nz\r\n\" id=\"DejaVuSans-54\"/>\r\n      </defs>\r\n      <g transform=\"translate(273.799876 254.356563)scale(0.1 -0.1)\">\r\n       <use xlink:href=\"#DejaVuSans-54\"/>\r\n       <use x=\"63.623047\" xlink:href=\"#DejaVuSans-48\"/>\r\n      </g>\r\n     </g>\r\n    </g>\r\n    <g id=\"xtick_8\">\r\n     <g id=\"line2d_15\">\r\n      <path clip-path=\"url(#p3ea5c795ca)\" d=\"M 318.836281 239.758125 \r\nL 318.836281 22.318125 \r\n\" style=\"fill:none;stroke:#b0b0b0;stroke-linecap:square;stroke-width:0.8;\"/>\r\n     </g>\r\n     <g id=\"line2d_16\">\r\n      <g>\r\n       <use style=\"stroke:#000000;stroke-width:0.8;\" x=\"318.836281\" xlink:href=\"#m0ea548ba56\" y=\"239.758125\"/>\r\n      </g>\r\n     </g>\r\n     <g id=\"text_8\">\r\n      <!-- 70 -->\r\n      <defs>\r\n       <path d=\"M 8.203125 72.90625 \r\nL 55.078125 72.90625 \r\nL 55.078125 68.703125 \r\nL 28.609375 0 \r\nL 18.3125 0 \r\nL 43.21875 64.59375 \r\nL 8.203125 64.59375 \r\nz\r\n\" id=\"DejaVuSans-55\"/>\r\n      </defs>\r\n      <g transform=\"translate(312.473781 254.356563)scale(0.1 -0.1)\">\r\n       <use xlink:href=\"#DejaVuSans-55\"/>\r\n       <use x=\"63.623047\" xlink:href=\"#DejaVuSans-48\"/>\r\n      </g>\r\n     </g>\r\n    </g>\r\n    <g id=\"xtick_9\">\r\n     <g id=\"line2d_17\">\r\n      <path clip-path=\"url(#p3ea5c795ca)\" d=\"M 357.510187 239.758125 \r\nL 357.510187 22.318125 \r\n\" style=\"fill:none;stroke:#b0b0b0;stroke-linecap:square;stroke-width:0.8;\"/>\r\n     </g>\r\n     <g id=\"line2d_18\">\r\n      <g>\r\n       <use style=\"stroke:#000000;stroke-width:0.8;\" x=\"357.510187\" xlink:href=\"#m0ea548ba56\" y=\"239.758125\"/>\r\n      </g>\r\n     </g>\r\n     <g id=\"text_9\">\r\n      <!-- 80 -->\r\n      <defs>\r\n       <path d=\"M 31.78125 34.625 \r\nQ 24.75 34.625 20.71875 30.859375 \r\nQ 16.703125 27.09375 16.703125 20.515625 \r\nQ 16.703125 13.921875 20.71875 10.15625 \r\nQ 24.75 6.390625 31.78125 6.390625 \r\nQ 38.8125 6.390625 42.859375 10.171875 \r\nQ 46.921875 13.96875 46.921875 20.515625 \r\nQ 46.921875 27.09375 42.890625 30.859375 \r\nQ 38.875 34.625 31.78125 34.625 \r\nz\r\nM 21.921875 38.8125 \r\nQ 15.578125 40.375 12.03125 44.71875 \r\nQ 8.5 49.078125 8.5 55.328125 \r\nQ 8.5 64.0625 14.71875 69.140625 \r\nQ 20.953125 74.21875 31.78125 74.21875 \r\nQ 42.671875 74.21875 48.875 69.140625 \r\nQ 55.078125 64.0625 55.078125 55.328125 \r\nQ 55.078125 49.078125 51.53125 44.71875 \r\nQ 48 40.375 41.703125 38.8125 \r\nQ 48.828125 37.15625 52.796875 32.3125 \r\nQ 56.78125 27.484375 56.78125 20.515625 \r\nQ 56.78125 9.90625 50.3125 4.234375 \r\nQ 43.84375 -1.421875 31.78125 -1.421875 \r\nQ 19.734375 -1.421875 13.25 4.234375 \r\nQ 6.78125 9.90625 6.78125 20.515625 \r\nQ 6.78125 27.484375 10.78125 32.3125 \r\nQ 14.796875 37.15625 21.921875 38.8125 \r\nz\r\nM 18.3125 54.390625 \r\nQ 18.3125 48.734375 21.84375 45.5625 \r\nQ 25.390625 42.390625 31.78125 42.390625 \r\nQ 38.140625 42.390625 41.71875 45.5625 \r\nQ 45.3125 48.734375 45.3125 54.390625 \r\nQ 45.3125 60.0625 41.71875 63.234375 \r\nQ 38.140625 66.40625 31.78125 66.40625 \r\nQ 25.390625 66.40625 21.84375 63.234375 \r\nQ 18.3125 60.0625 18.3125 54.390625 \r\nz\r\n\" id=\"DejaVuSans-56\"/>\r\n      </defs>\r\n      <g transform=\"translate(351.147687 254.356563)scale(0.1 -0.1)\">\r\n       <use xlink:href=\"#DejaVuSans-56\"/>\r\n       <use x=\"63.623047\" xlink:href=\"#DejaVuSans-48\"/>\r\n      </g>\r\n     </g>\r\n    </g>\r\n   </g>\r\n   <g id=\"matplotlib.axis_2\">\r\n    <g id=\"ytick_1\">\r\n     <g id=\"line2d_19\">\r\n      <path clip-path=\"url(#p3ea5c795ca)\" d=\"M 33.2875 239.758125 \r\nL 368.0875 239.758125 \r\n\" style=\"fill:none;stroke:#b0b0b0;stroke-linecap:square;stroke-width:0.8;\"/>\r\n     </g>\r\n     <g id=\"line2d_20\">\r\n      <defs>\r\n       <path d=\"M 0 0 \r\nL -3.5 0 \r\n\" id=\"md5b4e4755f\" style=\"stroke:#000000;stroke-width:0.8;\"/>\r\n      </defs>\r\n      <g>\r\n       <use style=\"stroke:#000000;stroke-width:0.8;\" x=\"33.2875\" xlink:href=\"#md5b4e4755f\" y=\"239.758125\"/>\r\n      </g>\r\n     </g>\r\n     <g id=\"text_10\">\r\n      <!-- 0 -->\r\n      <g transform=\"translate(19.925 243.557344)scale(0.1 -0.1)\">\r\n       <use xlink:href=\"#DejaVuSans-48\"/>\r\n      </g>\r\n     </g>\r\n    </g>\r\n    <g id=\"ytick_2\">\r\n     <g id=\"line2d_21\">\r\n      <path clip-path=\"url(#p3ea5c795ca)\" d=\"M 33.2875 212.109832 \r\nL 368.0875 212.109832 \r\n\" style=\"fill:none;stroke:#b0b0b0;stroke-linecap:square;stroke-width:0.8;\"/>\r\n     </g>\r\n     <g id=\"line2d_22\">\r\n      <g>\r\n       <use style=\"stroke:#000000;stroke-width:0.8;\" x=\"33.2875\" xlink:href=\"#md5b4e4755f\" y=\"212.109832\"/>\r\n      </g>\r\n     </g>\r\n     <g id=\"text_11\">\r\n      <!-- 100 -->\r\n      <g transform=\"translate(7.2 215.909051)scale(0.1 -0.1)\">\r\n       <use xlink:href=\"#DejaVuSans-49\"/>\r\n       <use x=\"63.623047\" xlink:href=\"#DejaVuSans-48\"/>\r\n       <use x=\"127.246094\" xlink:href=\"#DejaVuSans-48\"/>\r\n      </g>\r\n     </g>\r\n    </g>\r\n    <g id=\"ytick_3\">\r\n     <g id=\"line2d_23\">\r\n      <path clip-path=\"url(#p3ea5c795ca)\" d=\"M 33.2875 184.461539 \r\nL 368.0875 184.461539 \r\n\" style=\"fill:none;stroke:#b0b0b0;stroke-linecap:square;stroke-width:0.8;\"/>\r\n     </g>\r\n     <g id=\"line2d_24\">\r\n      <g>\r\n       <use style=\"stroke:#000000;stroke-width:0.8;\" x=\"33.2875\" xlink:href=\"#md5b4e4755f\" y=\"184.461539\"/>\r\n      </g>\r\n     </g>\r\n     <g id=\"text_12\">\r\n      <!-- 200 -->\r\n      <g transform=\"translate(7.2 188.260758)scale(0.1 -0.1)\">\r\n       <use xlink:href=\"#DejaVuSans-50\"/>\r\n       <use x=\"63.623047\" xlink:href=\"#DejaVuSans-48\"/>\r\n       <use x=\"127.246094\" xlink:href=\"#DejaVuSans-48\"/>\r\n      </g>\r\n     </g>\r\n    </g>\r\n    <g id=\"ytick_4\">\r\n     <g id=\"line2d_25\">\r\n      <path clip-path=\"url(#p3ea5c795ca)\" d=\"M 33.2875 156.813246 \r\nL 368.0875 156.813246 \r\n\" style=\"fill:none;stroke:#b0b0b0;stroke-linecap:square;stroke-width:0.8;\"/>\r\n     </g>\r\n     <g id=\"line2d_26\">\r\n      <g>\r\n       <use style=\"stroke:#000000;stroke-width:0.8;\" x=\"33.2875\" xlink:href=\"#md5b4e4755f\" y=\"156.813246\"/>\r\n      </g>\r\n     </g>\r\n     <g id=\"text_13\">\r\n      <!-- 300 -->\r\n      <g transform=\"translate(7.2 160.612465)scale(0.1 -0.1)\">\r\n       <use xlink:href=\"#DejaVuSans-51\"/>\r\n       <use x=\"63.623047\" xlink:href=\"#DejaVuSans-48\"/>\r\n       <use x=\"127.246094\" xlink:href=\"#DejaVuSans-48\"/>\r\n      </g>\r\n     </g>\r\n    </g>\r\n    <g id=\"ytick_5\">\r\n     <g id=\"line2d_27\">\r\n      <path clip-path=\"url(#p3ea5c795ca)\" d=\"M 33.2875 129.164953 \r\nL 368.0875 129.164953 \r\n\" style=\"fill:none;stroke:#b0b0b0;stroke-linecap:square;stroke-width:0.8;\"/>\r\n     </g>\r\n     <g id=\"line2d_28\">\r\n      <g>\r\n       <use style=\"stroke:#000000;stroke-width:0.8;\" x=\"33.2875\" xlink:href=\"#md5b4e4755f\" y=\"129.164953\"/>\r\n      </g>\r\n     </g>\r\n     <g id=\"text_14\">\r\n      <!-- 400 -->\r\n      <g transform=\"translate(7.2 132.964172)scale(0.1 -0.1)\">\r\n       <use xlink:href=\"#DejaVuSans-52\"/>\r\n       <use x=\"63.623047\" xlink:href=\"#DejaVuSans-48\"/>\r\n       <use x=\"127.246094\" xlink:href=\"#DejaVuSans-48\"/>\r\n      </g>\r\n     </g>\r\n    </g>\r\n    <g id=\"ytick_6\">\r\n     <g id=\"line2d_29\">\r\n      <path clip-path=\"url(#p3ea5c795ca)\" d=\"M 33.2875 101.51666 \r\nL 368.0875 101.51666 \r\n\" style=\"fill:none;stroke:#b0b0b0;stroke-linecap:square;stroke-width:0.8;\"/>\r\n     </g>\r\n     <g id=\"line2d_30\">\r\n      <g>\r\n       <use style=\"stroke:#000000;stroke-width:0.8;\" x=\"33.2875\" xlink:href=\"#md5b4e4755f\" y=\"101.51666\"/>\r\n      </g>\r\n     </g>\r\n     <g id=\"text_15\">\r\n      <!-- 500 -->\r\n      <g transform=\"translate(7.2 105.315879)scale(0.1 -0.1)\">\r\n       <use xlink:href=\"#DejaVuSans-53\"/>\r\n       <use x=\"63.623047\" xlink:href=\"#DejaVuSans-48\"/>\r\n       <use x=\"127.246094\" xlink:href=\"#DejaVuSans-48\"/>\r\n      </g>\r\n     </g>\r\n    </g>\r\n    <g id=\"ytick_7\">\r\n     <g id=\"line2d_31\">\r\n      <path clip-path=\"url(#p3ea5c795ca)\" d=\"M 33.2875 73.868367 \r\nL 368.0875 73.868367 \r\n\" style=\"fill:none;stroke:#b0b0b0;stroke-linecap:square;stroke-width:0.8;\"/>\r\n     </g>\r\n     <g id=\"line2d_32\">\r\n      <g>\r\n       <use style=\"stroke:#000000;stroke-width:0.8;\" x=\"33.2875\" xlink:href=\"#md5b4e4755f\" y=\"73.868367\"/>\r\n      </g>\r\n     </g>\r\n     <g id=\"text_16\">\r\n      <!-- 600 -->\r\n      <g transform=\"translate(7.2 77.667586)scale(0.1 -0.1)\">\r\n       <use xlink:href=\"#DejaVuSans-54\"/>\r\n       <use x=\"63.623047\" xlink:href=\"#DejaVuSans-48\"/>\r\n       <use x=\"127.246094\" xlink:href=\"#DejaVuSans-48\"/>\r\n      </g>\r\n     </g>\r\n    </g>\r\n    <g id=\"ytick_8\">\r\n     <g id=\"line2d_33\">\r\n      <path clip-path=\"url(#p3ea5c795ca)\" d=\"M 33.2875 46.220074 \r\nL 368.0875 46.220074 \r\n\" style=\"fill:none;stroke:#b0b0b0;stroke-linecap:square;stroke-width:0.8;\"/>\r\n     </g>\r\n     <g id=\"line2d_34\">\r\n      <g>\r\n       <use style=\"stroke:#000000;stroke-width:0.8;\" x=\"33.2875\" xlink:href=\"#md5b4e4755f\" y=\"46.220074\"/>\r\n      </g>\r\n     </g>\r\n     <g id=\"text_17\">\r\n      <!-- 700 -->\r\n      <g transform=\"translate(7.2 50.019293)scale(0.1 -0.1)\">\r\n       <use xlink:href=\"#DejaVuSans-55\"/>\r\n       <use x=\"63.623047\" xlink:href=\"#DejaVuSans-48\"/>\r\n       <use x=\"127.246094\" xlink:href=\"#DejaVuSans-48\"/>\r\n      </g>\r\n     </g>\r\n    </g>\r\n   </g>\r\n   <g id=\"patch_83\">\r\n    <path d=\"M 33.2875 239.758125 \r\nL 33.2875 22.318125 \r\n\" style=\"fill:none;stroke:#000000;stroke-linecap:square;stroke-linejoin:miter;stroke-width:0.8;\"/>\r\n   </g>\r\n   <g id=\"patch_84\">\r\n    <path d=\"M 368.0875 239.758125 \r\nL 368.0875 22.318125 \r\n\" style=\"fill:none;stroke:#000000;stroke-linecap:square;stroke-linejoin:miter;stroke-width:0.8;\"/>\r\n   </g>\r\n   <g id=\"patch_85\">\r\n    <path d=\"M 33.2875 239.758125 \r\nL 368.0875 239.758125 \r\n\" style=\"fill:none;stroke:#000000;stroke-linecap:square;stroke-linejoin:miter;stroke-width:0.8;\"/>\r\n   </g>\r\n   <g id=\"patch_86\">\r\n    <path d=\"M 33.2875 22.318125 \r\nL 368.0875 22.318125 \r\n\" style=\"fill:none;stroke:#000000;stroke-linecap:square;stroke-linejoin:miter;stroke-width:0.8;\"/>\r\n   </g>\r\n   <g id=\"text_18\">\r\n    <!-- rainfall -->\r\n    <defs>\r\n     <path d=\"M 41.109375 46.296875 \r\nQ 39.59375 47.171875 37.8125 47.578125 \r\nQ 36.03125 48 33.890625 48 \r\nQ 26.265625 48 22.1875 43.046875 \r\nQ 18.109375 38.09375 18.109375 28.8125 \r\nL 18.109375 0 \r\nL 9.078125 0 \r\nL 9.078125 54.6875 \r\nL 18.109375 54.6875 \r\nL 18.109375 46.1875 \r\nQ 20.953125 51.171875 25.484375 53.578125 \r\nQ 30.03125 56 36.53125 56 \r\nQ 37.453125 56 38.578125 55.875 \r\nQ 39.703125 55.765625 41.0625 55.515625 \r\nz\r\n\" id=\"DejaVuSans-114\"/>\r\n     <path d=\"M 34.28125 27.484375 \r\nQ 23.390625 27.484375 19.1875 25 \r\nQ 14.984375 22.515625 14.984375 16.5 \r\nQ 14.984375 11.71875 18.140625 8.90625 \r\nQ 21.296875 6.109375 26.703125 6.109375 \r\nQ 34.1875 6.109375 38.703125 11.40625 \r\nQ 43.21875 16.703125 43.21875 25.484375 \r\nL 43.21875 27.484375 \r\nz\r\nM 52.203125 31.203125 \r\nL 52.203125 0 \r\nL 43.21875 0 \r\nL 43.21875 8.296875 \r\nQ 40.140625 3.328125 35.546875 0.953125 \r\nQ 30.953125 -1.421875 24.3125 -1.421875 \r\nQ 15.921875 -1.421875 10.953125 3.296875 \r\nQ 6 8.015625 6 15.921875 \r\nQ 6 25.140625 12.171875 29.828125 \r\nQ 18.359375 34.515625 30.609375 34.515625 \r\nL 43.21875 34.515625 \r\nL 43.21875 35.40625 \r\nQ 43.21875 41.609375 39.140625 45 \r\nQ 35.0625 48.390625 27.6875 48.390625 \r\nQ 23 48.390625 18.546875 47.265625 \r\nQ 14.109375 46.140625 10.015625 43.890625 \r\nL 10.015625 52.203125 \r\nQ 14.9375 54.109375 19.578125 55.046875 \r\nQ 24.21875 56 28.609375 56 \r\nQ 40.484375 56 46.34375 49.84375 \r\nQ 52.203125 43.703125 52.203125 31.203125 \r\nz\r\n\" id=\"DejaVuSans-97\"/>\r\n     <path d=\"M 9.421875 54.6875 \r\nL 18.40625 54.6875 \r\nL 18.40625 0 \r\nL 9.421875 0 \r\nz\r\nM 9.421875 75.984375 \r\nL 18.40625 75.984375 \r\nL 18.40625 64.59375 \r\nL 9.421875 64.59375 \r\nz\r\n\" id=\"DejaVuSans-105\"/>\r\n     <path d=\"M 54.890625 33.015625 \r\nL 54.890625 0 \r\nL 45.90625 0 \r\nL 45.90625 32.71875 \r\nQ 45.90625 40.484375 42.875 44.328125 \r\nQ 39.84375 48.1875 33.796875 48.1875 \r\nQ 26.515625 48.1875 22.3125 43.546875 \r\nQ 18.109375 38.921875 18.109375 30.90625 \r\nL 18.109375 0 \r\nL 9.078125 0 \r\nL 9.078125 54.6875 \r\nL 18.109375 54.6875 \r\nL 18.109375 46.1875 \r\nQ 21.34375 51.125 25.703125 53.5625 \r\nQ 30.078125 56 35.796875 56 \r\nQ 45.21875 56 50.046875 50.171875 \r\nQ 54.890625 44.34375 54.890625 33.015625 \r\nz\r\n\" id=\"DejaVuSans-110\"/>\r\n     <path d=\"M 37.109375 75.984375 \r\nL 37.109375 68.5 \r\nL 28.515625 68.5 \r\nQ 23.6875 68.5 21.796875 66.546875 \r\nQ 19.921875 64.59375 19.921875 59.515625 \r\nL 19.921875 54.6875 \r\nL 34.71875 54.6875 \r\nL 34.71875 47.703125 \r\nL 19.921875 47.703125 \r\nL 19.921875 0 \r\nL 10.890625 0 \r\nL 10.890625 47.703125 \r\nL 2.296875 47.703125 \r\nL 2.296875 54.6875 \r\nL 10.890625 54.6875 \r\nL 10.890625 58.5 \r\nQ 10.890625 67.625 15.140625 71.796875 \r\nQ 19.390625 75.984375 28.609375 75.984375 \r\nz\r\n\" id=\"DejaVuSans-102\"/>\r\n     <path d=\"M 9.421875 75.984375 \r\nL 18.40625 75.984375 \r\nL 18.40625 0 \r\nL 9.421875 0 \r\nz\r\n\" id=\"DejaVuSans-108\"/>\r\n    </defs>\r\n    <g transform=\"translate(179.951875 16.318125)scale(0.12 -0.12)\">\r\n     <use xlink:href=\"#DejaVuSans-114\"/>\r\n     <use x=\"41.113281\" xlink:href=\"#DejaVuSans-97\"/>\r\n     <use x=\"102.392578\" xlink:href=\"#DejaVuSans-105\"/>\r\n     <use x=\"130.175781\" xlink:href=\"#DejaVuSans-110\"/>\r\n     <use x=\"193.554688\" xlink:href=\"#DejaVuSans-102\"/>\r\n     <use x=\"228.759766\" xlink:href=\"#DejaVuSans-97\"/>\r\n     <use x=\"290.039062\" xlink:href=\"#DejaVuSans-108\"/>\r\n     <use x=\"317.822266\" xlink:href=\"#DejaVuSans-108\"/>\r\n    </g>\r\n   </g>\r\n  </g>\r\n </g>\r\n <defs>\r\n  <clipPath id=\"p3ea5c795ca\">\r\n   <rect height=\"217.44\" width=\"334.8\" x=\"33.2875\" y=\"22.318125\"/>\r\n  </clipPath>\r\n </defs>\r\n</svg>\r\n",
      "image/png": "[encoded data removed]"
     },
     "metadata": {
      "needs_background": "light"
     }
    }
   ],
   "source": [
    "total_rainfall3.hist(bins=80)"
   ]
  },
  {
   "cell_type": "code",
   "execution_count": 78,
   "metadata": {},
   "outputs": [
    {
     "output_type": "execute_result",
     "data": {
      "text/plain": "          rainfall\ncount  1540.000000\nmean      2.867662\nstd       5.398594\nmin       0.100000\n25%       0.400000\n50%       1.100000\n75%       3.100000\nmax      78.800000",
      "text/html": "<div>\n<style scoped>\n    .dataframe tbody tr th:only-of-type {\n        vertical-align: middle;\n    }\n\n    .dataframe tbody tr th {\n        vertical-align: top;\n    }\n\n    .dataframe thead th {\n        text-align: right;\n    }\n</style>\n<table border=\"1\" class=\"dataframe\">\n  <thead>\n    <tr style=\"text-align: right;\">\n      <th></th>\n      <th>rainfall</th>\n    </tr>\n  </thead>\n  <tbody>\n    <tr>\n      <th>count</th>\n      <td>1540.000000</td>\n    </tr>\n    <tr>\n      <th>mean</th>\n      <td>2.867662</td>\n    </tr>\n    <tr>\n      <th>std</th>\n      <td>5.398594</td>\n    </tr>\n    <tr>\n      <th>min</th>\n      <td>0.100000</td>\n    </tr>\n    <tr>\n      <th>25%</th>\n      <td>0.400000</td>\n    </tr>\n    <tr>\n      <th>50%</th>\n      <td>1.100000</td>\n    </tr>\n    <tr>\n      <th>75%</th>\n      <td>3.100000</td>\n    </tr>\n    <tr>\n      <th>max</th>\n      <td>78.800000</td>\n    </tr>\n  </tbody>\n</table>\n</div>"
     },
     "metadata": {},
     "execution_count": 78
    }
   ],
   "source": [
    "total_rainfall3.describe() # 2017~2019 년까지의 강수량 총계"
   ]
  },
  {
   "cell_type": "code",
   "execution_count": 146,
   "metadata": {},
   "outputs": [
    {
     "output_type": "execute_result",
     "data": {
      "text/plain": "rainfall    89.61039\ndtype: float64"
     },
     "metadata": {},
     "execution_count": 146
    }
   ],
   "source": [
    "# total_rainfall3[(total_rainfall3 > 50) & (total_rainfall3 <= 80)].count()\n",
    "total_rainfall3[(total_rainfall3 < 6.8)].count() / 1540 * 100"
   ]
  },
  {
   "cell_type": "code",
   "execution_count": 153,
   "metadata": {
    "tags": []
   },
   "outputs": [
    {
     "output_type": "stream",
     "name": "stdout",
     "text": "rainfall    0.1\nName: 0.1, dtype: float64\n"
    }
   ],
   "source": [
    "print(total_rainfall3.quantile(0.1))"
   ]
  },
  {
   "cell_type": "code",
   "execution_count": 142,
   "metadata": {},
   "outputs": [
    {
     "output_type": "execute_result",
     "data": {
      "text/plain": "rainfall    78.8\ndtype: float64"
     },
     "metadata": {},
     "execution_count": 142
    }
   ],
   "source": [
    "total_rainfall3.max()"
   ]
  },
  {
   "cell_type": "code",
   "execution_count": 138,
   "metadata": {},
   "outputs": [
    {
     "output_type": "execute_result",
     "data": {
      "text/plain": "0.19480519480519481"
     },
     "metadata": {},
     "execution_count": 138
    }
   ],
   "source": [
    "3/1540*100"
   ]
  },
  {
   "cell_type": "code",
   "execution_count": 103,
   "metadata": {},
   "outputs": [],
   "source": [
    "import numpy as np"
   ]
  },
  {
   "cell_type": "code",
   "execution_count": 106,
   "metadata": {},
   "outputs": [
    {
     "output_type": "execute_result",
     "data": {
      "text/plain": "array([4, 6])"
     },
     "metadata": {},
     "execution_count": 106
    }
   ],
   "source": [
    "np.dot(2,[2,3])"
   ]
  },
  {
   "cell_type": "code",
   "execution_count": 115,
   "metadata": {},
   "outputs": [
    {
     "output_type": "execute_result",
     "data": {
      "text/plain": "4.0"
     },
     "metadata": {},
     "execution_count": 115
    }
   ],
   "source": [
    "np.exp2(2)"
   ]
  },
  {
   "cell_type": "code",
   "execution_count": 127,
   "metadata": {},
   "outputs": [
    {
     "output_type": "execute_result",
     "data": {
      "text/plain": "0.5161290322580645"
     },
     "metadata": {},
     "execution_count": 127
    }
   ],
   "source": [
    "(2**5) / (np.exp2(1) + np.exp2(2) + np.exp2(3) + np.exp2(4) + np.exp2(5))"
   ]
  },
  {
   "cell_type": "code",
   "execution_count": 111,
   "metadata": {},
   "outputs": [
    {
     "output_type": "error",
     "ename": "ValueError",
     "evalue": "invalid number of arguments",
     "traceback": [
      "\u001b[1;31m---------------------------------------------------------------------------\u001b[0m",
      "\u001b[1;31mValueError\u001b[0m                                Traceback (most recent call last)",
      "\u001b[1;32m<ipython-input-111-9a9667f08bb2>\u001b[0m in \u001b[0;36m<module>\u001b[1;34m\u001b[0m\n\u001b[1;32m----> 1\u001b[1;33m \u001b[0mnp\u001b[0m\u001b[1;33m.\u001b[0m\u001b[0mdot\u001b[0m\u001b[1;33m(\u001b[0m\u001b[0mnp\u001b[0m\u001b[1;33m.\u001b[0m\u001b[0mexp2\u001b[0m\u001b[1;33m(\u001b[0m\u001b[1;33m)\u001b[0m\u001b[1;33m,\u001b[0m\u001b[1;33m[\u001b[0m\u001b[1;36m1\u001b[0m\u001b[1;33m,\u001b[0m\u001b[1;36m2\u001b[0m\u001b[1;33m,\u001b[0m\u001b[1;36m3\u001b[0m\u001b[1;33m,\u001b[0m\u001b[1;36m4\u001b[0m\u001b[1;33m,\u001b[0m\u001b[1;36m5\u001b[0m\u001b[1;33m]\u001b[0m\u001b[1;33m)\u001b[0m\u001b[1;33m\u001b[0m\u001b[1;33m\u001b[0m\u001b[0m\n\u001b[0m",
      "\u001b[1;31mValueError\u001b[0m: invalid number of arguments"
     ]
    }
   ],
   "source": [
    "np.dot(np.exp2([1,2,3,4,5]))"
   ]
  }
 ]
}